{
 "cells": [
  {
   "cell_type": "markdown",
   "metadata": {},
   "source": [
    "# **Customer Churn Prediction**\n",
    "### Machine Learning with Python\n",
    "---\n",
    "**Author:** Hai Pham"
   ]
  },
  {
   "cell_type": "markdown",
   "metadata": {},
   "source": [
    "## 1. Business Problem"
   ]
  },
  {
   "cell_type": "markdown",
   "metadata": {},
   "source": [
    "Customer retention is key to sustainable growth for Software-as-a-Service (SaaS) companies since the cost of retaining existing customers is much less than acquiring new ones. Customers, however, now retract their loyalty more quickly than they did a few years ago. Therefore, identifying factors that affect customers’ decision on canceling a subscription is becoming increasingly crucial for these firms.\n",
    "\n",
    "My goal is to develop a prediction model using Machine Learning that helps those firms identify customers that are likely to discontinue their services so that those firms can take necessary actions to retain their current customers. Due to unavailability of customer data of SaaS companies, I searched for similar data in other industries as a proxy and came up with a dataset of a telecommunication firm on Kaggle. With subscription-based business of telecommunication, this customer dataset would be a good alternative to that of SaaS. The inputs for this project would be customer’s historical behaviors. Based on those data a classification model is trained and then used to predict if certain customers are going to discontinue services."
   ]
  },
  {
   "cell_type": "markdown",
   "metadata": {},
   "source": [
    "## 2. Data Loading"
   ]
  },
  {
   "cell_type": "markdown",
   "metadata": {},
   "source": [
    "First let's import packages necessary for this analysis:"
   ]
  },
  {
   "cell_type": "code",
   "execution_count": 1,
   "metadata": {},
   "outputs": [],
   "source": [
    "import seaborn as sns\n",
    "\n",
    "import matplotlib.pyplot as plt\n",
    "\n",
    "import pandas as pd\n",
    "import numpy as np\n",
    "import math\n",
    "\n",
    "from matplotlib import pyplot\n",
    "from matplotlib.colors import LinearSegmentedColormap\n",
    "import matplotlib.cm as cm\n",
    "\n",
    "from sklearn.feature_extraction.text import CountVectorizer\n",
    "\n",
    "from sklearn.model_selection import train_test_split, GridSearchCV, StratifiedKFold\n",
    "from sklearn.feature_selection import VarianceThreshold\n",
    "from sklearn.preprocessing import OneHotEncoder, RobustScaler\n",
    "from sklearn.impute import SimpleImputer\n",
    "from sklearn.tree import DecisionTreeClassifier\n",
    "from sklearn.ensemble import RandomForestClassifier, AdaBoostClassifier\n",
    "from sklearn.svm import SVC\n",
    "from sklearn.metrics import balanced_accuracy_score, roc_auc_score, roc_curve, plot_roc_curve, confusion_matrix, plot_confusion_matrix, classification_report\n",
    "from sklearn.linear_model import LogisticRegression\n",
    "\n",
    "from xgboost import XGBClassifier"
   ]
  },
  {
   "cell_type": "markdown",
   "metadata": {},
   "source": [
    "The dataset is obtained from Kaggle and then uploaded to dropbox so we can load it from a url."
   ]
  },
  {
   "cell_type": "code",
   "execution_count": 2,
   "metadata": {},
   "outputs": [],
   "source": [
    "data_url = 'https://www.dropbox.com/s/sj4ua510qwr34qs/Orange%20Telecom%20dataset.csv?dl=1'\n",
    "dat = pd.read_csv(data_url, na_values=np.NaN)"
   ]
  },
  {
   "cell_type": "code",
   "execution_count": 3,
   "metadata": {},
   "outputs": [
    {
     "name": "stdout",
     "output_type": "stream",
     "text": [
      "<class 'pandas.core.frame.DataFrame'>\n",
      "RangeIndex: 3333 entries, 0 to 3332\n",
      "Data columns (total 20 columns):\n",
      " #   Column                  Non-Null Count  Dtype  \n",
      "---  ------                  --------------  -----  \n",
      " 0   State                   3333 non-null   object \n",
      " 1   Account length          3333 non-null   int64  \n",
      " 2   Area code               3333 non-null   int64  \n",
      " 3   International plan      3333 non-null   object \n",
      " 4   Voice mail plan         3333 non-null   object \n",
      " 5   Number vmail messages   3333 non-null   int64  \n",
      " 6   Total day minutes       3333 non-null   float64\n",
      " 7   Total day calls         3333 non-null   int64  \n",
      " 8   Total day charge        3333 non-null   float64\n",
      " 9   Total eve minutes       3333 non-null   float64\n",
      " 10  Total eve calls         3333 non-null   int64  \n",
      " 11  Total eve charge        3333 non-null   float64\n",
      " 12  Total night minutes     3333 non-null   float64\n",
      " 13  Total night calls       3333 non-null   int64  \n",
      " 14  Total night charge      3333 non-null   float64\n",
      " 15  Total intl minutes      3333 non-null   float64\n",
      " 16  Total intl calls        3333 non-null   int64  \n",
      " 17  Total intl charge       3333 non-null   float64\n",
      " 18  Customer service calls  3333 non-null   int64  \n",
      " 19  Churn                   3333 non-null   object \n",
      "dtypes: float64(8), int64(8), object(4)\n",
      "memory usage: 520.9+ KB\n"
     ]
    }
   ],
   "source": [
    "dat.info()"
   ]
  },
  {
   "cell_type": "code",
   "execution_count": 4,
   "metadata": {},
   "outputs": [
    {
     "data": {
      "text/html": [
       "<div>\n",
       "<style scoped>\n",
       "    .dataframe tbody tr th:only-of-type {\n",
       "        vertical-align: middle;\n",
       "    }\n",
       "\n",
       "    .dataframe tbody tr th {\n",
       "        vertical-align: top;\n",
       "    }\n",
       "\n",
       "    .dataframe thead th {\n",
       "        text-align: right;\n",
       "    }\n",
       "</style>\n",
       "<table border=\"1\" class=\"dataframe\">\n",
       "  <thead>\n",
       "    <tr style=\"text-align: right;\">\n",
       "      <th></th>\n",
       "      <th>State</th>\n",
       "      <th>Account length</th>\n",
       "      <th>Area code</th>\n",
       "      <th>International plan</th>\n",
       "      <th>Voice mail plan</th>\n",
       "      <th>Number vmail messages</th>\n",
       "      <th>Total day minutes</th>\n",
       "      <th>Total day calls</th>\n",
       "      <th>Total day charge</th>\n",
       "      <th>Total eve minutes</th>\n",
       "      <th>Total eve calls</th>\n",
       "      <th>Total eve charge</th>\n",
       "      <th>Total night minutes</th>\n",
       "      <th>Total night calls</th>\n",
       "      <th>Total night charge</th>\n",
       "      <th>Total intl minutes</th>\n",
       "      <th>Total intl calls</th>\n",
       "      <th>Total intl charge</th>\n",
       "      <th>Customer service calls</th>\n",
       "      <th>Churn</th>\n",
       "    </tr>\n",
       "  </thead>\n",
       "  <tbody>\n",
       "    <tr>\n",
       "      <th>0</th>\n",
       "      <td>KS</td>\n",
       "      <td>128</td>\n",
       "      <td>415</td>\n",
       "      <td>No</td>\n",
       "      <td>Yes</td>\n",
       "      <td>25</td>\n",
       "      <td>265.1</td>\n",
       "      <td>110</td>\n",
       "      <td>45.07</td>\n",
       "      <td>197.4</td>\n",
       "      <td>99</td>\n",
       "      <td>16.78</td>\n",
       "      <td>244.7</td>\n",
       "      <td>91</td>\n",
       "      <td>11.01</td>\n",
       "      <td>10.0</td>\n",
       "      <td>3</td>\n",
       "      <td>2.70</td>\n",
       "      <td>1</td>\n",
       "      <td>No</td>\n",
       "    </tr>\n",
       "    <tr>\n",
       "      <th>1</th>\n",
       "      <td>OH</td>\n",
       "      <td>107</td>\n",
       "      <td>415</td>\n",
       "      <td>No</td>\n",
       "      <td>Yes</td>\n",
       "      <td>26</td>\n",
       "      <td>161.6</td>\n",
       "      <td>123</td>\n",
       "      <td>27.47</td>\n",
       "      <td>195.5</td>\n",
       "      <td>103</td>\n",
       "      <td>16.62</td>\n",
       "      <td>254.4</td>\n",
       "      <td>103</td>\n",
       "      <td>11.45</td>\n",
       "      <td>13.7</td>\n",
       "      <td>3</td>\n",
       "      <td>3.70</td>\n",
       "      <td>1</td>\n",
       "      <td>No</td>\n",
       "    </tr>\n",
       "    <tr>\n",
       "      <th>2</th>\n",
       "      <td>NJ</td>\n",
       "      <td>137</td>\n",
       "      <td>415</td>\n",
       "      <td>No</td>\n",
       "      <td>No</td>\n",
       "      <td>0</td>\n",
       "      <td>243.4</td>\n",
       "      <td>114</td>\n",
       "      <td>41.38</td>\n",
       "      <td>121.2</td>\n",
       "      <td>110</td>\n",
       "      <td>10.30</td>\n",
       "      <td>162.6</td>\n",
       "      <td>104</td>\n",
       "      <td>7.32</td>\n",
       "      <td>12.2</td>\n",
       "      <td>5</td>\n",
       "      <td>3.29</td>\n",
       "      <td>0</td>\n",
       "      <td>No</td>\n",
       "    </tr>\n",
       "    <tr>\n",
       "      <th>3</th>\n",
       "      <td>OH</td>\n",
       "      <td>84</td>\n",
       "      <td>408</td>\n",
       "      <td>Yes</td>\n",
       "      <td>No</td>\n",
       "      <td>0</td>\n",
       "      <td>299.4</td>\n",
       "      <td>71</td>\n",
       "      <td>50.90</td>\n",
       "      <td>61.9</td>\n",
       "      <td>88</td>\n",
       "      <td>5.26</td>\n",
       "      <td>196.9</td>\n",
       "      <td>89</td>\n",
       "      <td>8.86</td>\n",
       "      <td>6.6</td>\n",
       "      <td>7</td>\n",
       "      <td>1.78</td>\n",
       "      <td>2</td>\n",
       "      <td>No</td>\n",
       "    </tr>\n",
       "    <tr>\n",
       "      <th>4</th>\n",
       "      <td>OK</td>\n",
       "      <td>75</td>\n",
       "      <td>415</td>\n",
       "      <td>Yes</td>\n",
       "      <td>No</td>\n",
       "      <td>0</td>\n",
       "      <td>166.7</td>\n",
       "      <td>113</td>\n",
       "      <td>28.34</td>\n",
       "      <td>148.3</td>\n",
       "      <td>122</td>\n",
       "      <td>12.61</td>\n",
       "      <td>186.9</td>\n",
       "      <td>121</td>\n",
       "      <td>8.41</td>\n",
       "      <td>10.1</td>\n",
       "      <td>3</td>\n",
       "      <td>2.73</td>\n",
       "      <td>3</td>\n",
       "      <td>No</td>\n",
       "    </tr>\n",
       "  </tbody>\n",
       "</table>\n",
       "</div>"
      ],
      "text/plain": [
       "  State  Account length  Area code International plan Voice mail plan  \\\n",
       "0    KS             128        415                 No             Yes   \n",
       "1    OH             107        415                 No             Yes   \n",
       "2    NJ             137        415                 No              No   \n",
       "3    OH              84        408                Yes              No   \n",
       "4    OK              75        415                Yes              No   \n",
       "\n",
       "   Number vmail messages  Total day minutes  Total day calls  \\\n",
       "0                     25              265.1              110   \n",
       "1                     26              161.6              123   \n",
       "2                      0              243.4              114   \n",
       "3                      0              299.4               71   \n",
       "4                      0              166.7              113   \n",
       "\n",
       "   Total day charge  Total eve minutes  Total eve calls  Total eve charge  \\\n",
       "0             45.07              197.4               99             16.78   \n",
       "1             27.47              195.5              103             16.62   \n",
       "2             41.38              121.2              110             10.30   \n",
       "3             50.90               61.9               88              5.26   \n",
       "4             28.34              148.3              122             12.61   \n",
       "\n",
       "   Total night minutes  Total night calls  Total night charge  \\\n",
       "0                244.7                 91               11.01   \n",
       "1                254.4                103               11.45   \n",
       "2                162.6                104                7.32   \n",
       "3                196.9                 89                8.86   \n",
       "4                186.9                121                8.41   \n",
       "\n",
       "   Total intl minutes  Total intl calls  Total intl charge  \\\n",
       "0                10.0                 3               2.70   \n",
       "1                13.7                 3               3.70   \n",
       "2                12.2                 5               3.29   \n",
       "3                 6.6                 7               1.78   \n",
       "4                10.1                 3               2.73   \n",
       "\n",
       "   Customer service calls Churn  \n",
       "0                       1    No  \n",
       "1                       1    No  \n",
       "2                       0    No  \n",
       "3                       2    No  \n",
       "4                       3    No  "
      ]
     },
     "execution_count": 4,
     "metadata": {},
     "output_type": "execute_result"
    }
   ],
   "source": [
    "# Take a look at the first 5 rows\n",
    "dat.head()"
   ]
  },
  {
   "cell_type": "markdown",
   "metadata": {},
   "source": [
    "The dataset used for this project includes customers’ usage data of a telecomcomunications company, Orange S.A. (“Orange”), and is publicly available on Kaggle. The dataset consists of `3,333` observations, each of which describes a unique customer. There are `20` variables, 19 of which are customers’ demographic and usage data and 1 churn label specifying whether a customer continues or discontinues Orange ’s services.\n",
    "- State: 51 states in the US\n",
    "- Account length: number of days from account opening to data collection time, ranging from 1 to 243 days\n",
    "- Area code: 415 relates to San Francisco, 408 is of San Jose and 510 is of City of Oakland\n",
    "- International plan: Yes indicates that international plan is present and No indicates no subscription for intertional plan\n",
    "- Voice mail plan: Yes indicates that voice mail plan is present and No indicates no subscription for voice mail plan\n",
    "- Number vmail messages: number of voice mail messages\n",
    "- Total day minutes: total number of minutes spent by customer in morning and afternoon\n",
    "- Total day calls: total number of calls made by customer in morning and afternoon\n",
    "- Total day charge: total charge to the customer in morning and afternoon\n",
    "- Total eve minutes: total number of minutes spent by customer in evening\n",
    "- Total eve calls: total number of calls made by customer in evening\n",
    "- Total eve charge: total charge to the customer in evening\n",
    "- Total night minutes: total number of minutes spent by customer in night\n",
    "- Total night calls: total number of calls made by customer in night\n",
    "- Total night charge: total charge to the customer in night\n",
    "- Total intl minutes: total number of minutes spent by customer on international calls\n",
    "- Total intl calls: total number of international calls made by customer\n",
    "- Total intl charge: total charge to the customer for international calls\n",
    "- Customer service calls: total number of customer services calls made by customer\n",
    "- Churn: Yes indicates that customer cancel the subscription while No indicates that customer continue services.There are 2,850 customers in this dataset continuing Orange’s service and 483 people churn"
   ]
  },
  {
   "cell_type": "markdown",
   "metadata": {},
   "source": [
    "It is clear that `State` and `Area code` have no predictive power so let's remove them from our dataset."
   ]
  },
  {
   "cell_type": "code",
   "execution_count": 5,
   "metadata": {},
   "outputs": [
    {
     "data": {
      "text/html": [
       "<div>\n",
       "<style scoped>\n",
       "    .dataframe tbody tr th:only-of-type {\n",
       "        vertical-align: middle;\n",
       "    }\n",
       "\n",
       "    .dataframe tbody tr th {\n",
       "        vertical-align: top;\n",
       "    }\n",
       "\n",
       "    .dataframe thead th {\n",
       "        text-align: right;\n",
       "    }\n",
       "</style>\n",
       "<table border=\"1\" class=\"dataframe\">\n",
       "  <thead>\n",
       "    <tr style=\"text-align: right;\">\n",
       "      <th></th>\n",
       "      <th>Account length</th>\n",
       "      <th>International plan</th>\n",
       "      <th>Voice mail plan</th>\n",
       "      <th>Number vmail messages</th>\n",
       "      <th>Total day minutes</th>\n",
       "      <th>Total day calls</th>\n",
       "      <th>Total day charge</th>\n",
       "      <th>Total eve minutes</th>\n",
       "      <th>Total eve calls</th>\n",
       "      <th>Total eve charge</th>\n",
       "      <th>Total night minutes</th>\n",
       "      <th>Total night calls</th>\n",
       "      <th>Total night charge</th>\n",
       "      <th>Total intl minutes</th>\n",
       "      <th>Total intl calls</th>\n",
       "      <th>Total intl charge</th>\n",
       "      <th>Customer service calls</th>\n",
       "      <th>Churn</th>\n",
       "    </tr>\n",
       "  </thead>\n",
       "  <tbody>\n",
       "    <tr>\n",
       "      <th>0</th>\n",
       "      <td>128</td>\n",
       "      <td>No</td>\n",
       "      <td>Yes</td>\n",
       "      <td>25</td>\n",
       "      <td>265.1</td>\n",
       "      <td>110</td>\n",
       "      <td>45.07</td>\n",
       "      <td>197.4</td>\n",
       "      <td>99</td>\n",
       "      <td>16.78</td>\n",
       "      <td>244.7</td>\n",
       "      <td>91</td>\n",
       "      <td>11.01</td>\n",
       "      <td>10.0</td>\n",
       "      <td>3</td>\n",
       "      <td>2.70</td>\n",
       "      <td>1</td>\n",
       "      <td>No</td>\n",
       "    </tr>\n",
       "    <tr>\n",
       "      <th>1</th>\n",
       "      <td>107</td>\n",
       "      <td>No</td>\n",
       "      <td>Yes</td>\n",
       "      <td>26</td>\n",
       "      <td>161.6</td>\n",
       "      <td>123</td>\n",
       "      <td>27.47</td>\n",
       "      <td>195.5</td>\n",
       "      <td>103</td>\n",
       "      <td>16.62</td>\n",
       "      <td>254.4</td>\n",
       "      <td>103</td>\n",
       "      <td>11.45</td>\n",
       "      <td>13.7</td>\n",
       "      <td>3</td>\n",
       "      <td>3.70</td>\n",
       "      <td>1</td>\n",
       "      <td>No</td>\n",
       "    </tr>\n",
       "    <tr>\n",
       "      <th>2</th>\n",
       "      <td>137</td>\n",
       "      <td>No</td>\n",
       "      <td>No</td>\n",
       "      <td>0</td>\n",
       "      <td>243.4</td>\n",
       "      <td>114</td>\n",
       "      <td>41.38</td>\n",
       "      <td>121.2</td>\n",
       "      <td>110</td>\n",
       "      <td>10.30</td>\n",
       "      <td>162.6</td>\n",
       "      <td>104</td>\n",
       "      <td>7.32</td>\n",
       "      <td>12.2</td>\n",
       "      <td>5</td>\n",
       "      <td>3.29</td>\n",
       "      <td>0</td>\n",
       "      <td>No</td>\n",
       "    </tr>\n",
       "    <tr>\n",
       "      <th>3</th>\n",
       "      <td>84</td>\n",
       "      <td>Yes</td>\n",
       "      <td>No</td>\n",
       "      <td>0</td>\n",
       "      <td>299.4</td>\n",
       "      <td>71</td>\n",
       "      <td>50.90</td>\n",
       "      <td>61.9</td>\n",
       "      <td>88</td>\n",
       "      <td>5.26</td>\n",
       "      <td>196.9</td>\n",
       "      <td>89</td>\n",
       "      <td>8.86</td>\n",
       "      <td>6.6</td>\n",
       "      <td>7</td>\n",
       "      <td>1.78</td>\n",
       "      <td>2</td>\n",
       "      <td>No</td>\n",
       "    </tr>\n",
       "    <tr>\n",
       "      <th>4</th>\n",
       "      <td>75</td>\n",
       "      <td>Yes</td>\n",
       "      <td>No</td>\n",
       "      <td>0</td>\n",
       "      <td>166.7</td>\n",
       "      <td>113</td>\n",
       "      <td>28.34</td>\n",
       "      <td>148.3</td>\n",
       "      <td>122</td>\n",
       "      <td>12.61</td>\n",
       "      <td>186.9</td>\n",
       "      <td>121</td>\n",
       "      <td>8.41</td>\n",
       "      <td>10.1</td>\n",
       "      <td>3</td>\n",
       "      <td>2.73</td>\n",
       "      <td>3</td>\n",
       "      <td>No</td>\n",
       "    </tr>\n",
       "  </tbody>\n",
       "</table>\n",
       "</div>"
      ],
      "text/plain": [
       "   Account length International plan Voice mail plan  Number vmail messages  \\\n",
       "0             128                 No             Yes                     25   \n",
       "1             107                 No             Yes                     26   \n",
       "2             137                 No              No                      0   \n",
       "3              84                Yes              No                      0   \n",
       "4              75                Yes              No                      0   \n",
       "\n",
       "   Total day minutes  Total day calls  Total day charge  Total eve minutes  \\\n",
       "0              265.1              110             45.07              197.4   \n",
       "1              161.6              123             27.47              195.5   \n",
       "2              243.4              114             41.38              121.2   \n",
       "3              299.4               71             50.90               61.9   \n",
       "4              166.7              113             28.34              148.3   \n",
       "\n",
       "   Total eve calls  Total eve charge  Total night minutes  Total night calls  \\\n",
       "0               99             16.78                244.7                 91   \n",
       "1              103             16.62                254.4                103   \n",
       "2              110             10.30                162.6                104   \n",
       "3               88              5.26                196.9                 89   \n",
       "4              122             12.61                186.9                121   \n",
       "\n",
       "   Total night charge  Total intl minutes  Total intl calls  \\\n",
       "0               11.01                10.0                 3   \n",
       "1               11.45                13.7                 3   \n",
       "2                7.32                12.2                 5   \n",
       "3                8.86                 6.6                 7   \n",
       "4                8.41                10.1                 3   \n",
       "\n",
       "   Total intl charge  Customer service calls Churn  \n",
       "0               2.70                       1    No  \n",
       "1               3.70                       1    No  \n",
       "2               3.29                       0    No  \n",
       "3               1.78                       2    No  \n",
       "4               2.73                       3    No  "
      ]
     },
     "execution_count": 5,
     "metadata": {},
     "output_type": "execute_result"
    }
   ],
   "source": [
    "dat = dat.drop(columns = ['State','Area code'])\n",
    "dat.head()"
   ]
  },
  {
   "cell_type": "markdown",
   "metadata": {},
   "source": [
    "## 3. Descriptive Analytics ##"
   ]
  },
  {
   "cell_type": "code",
   "execution_count": 6,
   "metadata": {},
   "outputs": [],
   "source": [
    "# Set up seaborn plots\n",
    "sns.set(rc = {'figure.figsize': (8, 6)},\n",
    "        font_scale = 1.25) \n",
    "sns.set_style('whitegrid')"
   ]
  },
  {
   "cell_type": "markdown",
   "metadata": {},
   "source": [
    "Plot a distribution of target variable `Churn`:"
   ]
  },
  {
   "cell_type": "code",
   "execution_count": 7,
   "metadata": {},
   "outputs": [
    {
     "data": {
      "image/png": "[encoded data removed]",
      "text/plain": [
       "<Figure size 576x432 with 1 Axes>"
      ]
     },
     "metadata": {},
     "output_type": "display_data"
    }
   ],
   "source": [
    "sns.countplot(x = 'Churn',\n",
    "             data = dat).set_title('Churn variable', fontsize = 20);"
   ]
  },
  {
   "cell_type": "markdown",
   "metadata": {},
   "source": [
    "We can tell that this is an imbalanced dataset with 2,850 No values and 483 Yes values in response variable. Now let's visualize the relationship between `Churn` and three categorical variables: `International plan`, and `Voice mail plan`"
   ]
  },
  {
   "cell_type": "code",
   "execution_count": 8,
   "metadata": {},
   "outputs": [
    {
     "data": {
      "image/png": "[encoded data removed]",
      "text/plain": [
       "<Figure size 576x432 with 1 Axes>"
      ]
     },
     "metadata": {},
     "output_type": "display_data"
    }
   ],
   "source": [
    "sns.countplot(x = 'International plan', \n",
    "            hue = 'Churn',\n",
    "            data = dat).set(title = 'International plan vs Churn');\n",
    "\n",
    "plt.legend(bbox_to_anchor = (1.03, 1), title = 'Churn', loc= 2);"
   ]
  },
  {
   "cell_type": "markdown",
   "metadata": {},
   "source": [
    "- Customers with no international plan subscription are more likely to churn."
   ]
  },
  {
   "cell_type": "code",
   "execution_count": 9,
   "metadata": {},
   "outputs": [
    {
     "data": {
      "image/png": "[encoded data removed]",
      "text/plain": [
       "<Figure size 576x432 with 1 Axes>"
      ]
     },
     "metadata": {},
     "output_type": "display_data"
    }
   ],
   "source": [
    "sns.countplot(x = 'Voice mail plan', \n",
    "            hue = 'Churn',\n",
    "            data = dat).set(title = 'Voice mail plan vs Churn');\n",
    "\n",
    "plt.legend(bbox_to_anchor = (1.03, 1), title = 'Churn', loc= 2);"
   ]
  },
  {
   "cell_type": "markdown",
   "metadata": {},
   "source": [
    "- Customers without voice mail plan subscription are more likely to churn."
   ]
  },
  {
   "cell_type": "markdown",
   "metadata": {},
   "source": [
    "Next we explore relationship between `Churn` and other numeric variables:"
   ]
  },
  {
   "cell_type": "code",
   "execution_count": 10,
   "metadata": {},
   "outputs": [
    {
     "data": {
      "image/png": "[encoded data removed]",
      "text/plain": [
       "<Figure size 1728x864 with 8 Axes>"
      ]
     },
     "metadata": {},
     "output_type": "display_data"
    }
   ],
   "source": [
    "predictors_float = list(dat.select_dtypes(include = ['float64']).columns)\n",
    "\n",
    "plt.figure(figsize=(24,12))\n",
    "\n",
    "for i, c in enumerate(predictors_float, 1):\n",
    "    plt.subplot(2,4,i)\n",
    "    sns.boxplot(x ='Churn',\n",
    "                y = c,\n",
    "                data = dat)"
   ]
  },
  {
   "cell_type": "markdown",
   "metadata": {},
   "source": [
    "Based on the above charts, we can see:\n",
    "- Customers that have longer day calls and incur higher day charges are more likely to churn.\n",
    "- Customers that have longer evening calls and incure higher evening charges are more likely to churn.\n",
    "- Customers that have longer international calls and incur higher international charges are more likely to churn."
   ]
  },
  {
   "cell_type": "code",
   "execution_count": 11,
   "metadata": {},
   "outputs": [
    {
     "data": {
      "image/png": "[encoded data removed]",
      "text/plain": [
       "<Figure size 1728x864 with 7 Axes>"
      ]
     },
     "metadata": {},
     "output_type": "display_data"
    }
   ],
   "source": [
    "predictors_integer = list(dat.select_dtypes(include = ['int64']).columns)\n",
    "\n",
    "plt.figure(figsize=(24,12))\n",
    "\n",
    "for i, c in enumerate(predictors_integer, 1):\n",
    "    plt.subplot(2,4,i)\n",
    "    sns.boxplot(x ='Churn',\n",
    "                y = c,\n",
    "                data = dat)"
   ]
  },
  {
   "cell_type": "markdown",
   "metadata": {},
   "source": [
    "- Customers that make more calls to customer service are more likely to churn."
   ]
  },
  {
   "cell_type": "markdown",
   "metadata": {},
   "source": [
    "Now let's see interaction effect of predictors on target variable `Churn`"
   ]
  },
  {
   "cell_type": "code",
   "execution_count": 12,
   "metadata": {},
   "outputs": [
    {
     "data": {
      "text/html": [
       "<div>\n",
       "<style scoped>\n",
       "    .dataframe tbody tr th:only-of-type {\n",
       "        vertical-align: middle;\n",
       "    }\n",
       "\n",
       "    .dataframe tbody tr th {\n",
       "        vertical-align: top;\n",
       "    }\n",
       "\n",
       "    .dataframe thead th {\n",
       "        text-align: right;\n",
       "    }\n",
       "</style>\n",
       "<table border=\"1\" class=\"dataframe\">\n",
       "  <thead>\n",
       "    <tr style=\"text-align: right;\">\n",
       "      <th></th>\n",
       "      <th>International plan</th>\n",
       "      <th>roundedIntlCharge</th>\n",
       "      <th>proportionChurn</th>\n",
       "    </tr>\n",
       "  </thead>\n",
       "  <tbody>\n",
       "    <tr>\n",
       "      <th>0</th>\n",
       "      <td>No</td>\n",
       "      <td>0.0</td>\n",
       "      <td>0.000000</td>\n",
       "    </tr>\n",
       "    <tr>\n",
       "      <th>1</th>\n",
       "      <td>No</td>\n",
       "      <td>1.0</td>\n",
       "      <td>0.105691</td>\n",
       "    </tr>\n",
       "    <tr>\n",
       "      <th>2</th>\n",
       "      <td>No</td>\n",
       "      <td>2.0</td>\n",
       "      <td>0.118736</td>\n",
       "    </tr>\n",
       "    <tr>\n",
       "      <th>3</th>\n",
       "      <td>No</td>\n",
       "      <td>3.0</td>\n",
       "      <td>0.113514</td>\n",
       "    </tr>\n",
       "    <tr>\n",
       "      <th>4</th>\n",
       "      <td>No</td>\n",
       "      <td>4.0</td>\n",
       "      <td>0.121348</td>\n",
       "    </tr>\n",
       "  </tbody>\n",
       "</table>\n",
       "</div>"
      ],
      "text/plain": [
       "  International plan  roundedIntlCharge  proportionChurn\n",
       "0                 No                0.0         0.000000\n",
       "1                 No                1.0         0.105691\n",
       "2                 No                2.0         0.118736\n",
       "3                 No                3.0         0.113514\n",
       "4                 No                4.0         0.121348"
      ]
     },
     "execution_count": 12,
     "metadata": {},
     "output_type": "execute_result"
    }
   ],
   "source": [
    "plotDat = (dat.\n",
    "           assign(roundedIntlCharge = round(dat['Total intl charge'], 0)).\n",
    "           groupby(['International plan', 'roundedIntlCharge']).\n",
    "           apply(lambda x: len(x.Churn[x.Churn == \"Yes\"])/len(x.Churn)).\n",
    "           reset_index().\n",
    "           rename(columns = {0: 'proportionChurn'}))\n",
    "plotDat.head()"
   ]
  },
  {
   "cell_type": "code",
   "execution_count": 13,
   "metadata": {},
   "outputs": [
    {
     "data": {
      "image/png": "[encoded data removed]",
      "text/plain": [
       "<Figure size 845.875x360 with 2 Axes>"
      ]
     },
     "metadata": {},
     "output_type": "display_data"
    }
   ],
   "source": [
    "sns.relplot(\n",
    "    x = 'roundedIntlCharge',\n",
    "    y = 'proportionChurn',\n",
    "    s = 150,\n",
    "    hue = 'International plan',\n",
    "    col = 'International plan',\n",
    "    kind = 'scatter',\n",
    "    data = plotDat);"
   ]
  },
  {
   "cell_type": "markdown",
   "metadata": {},
   "source": [
    "Contrary to the initial plot, customers with international plan are actually more likely to churn than customers without international plan. And the higher international charges they incur, the more likely they are to churn. This can be explained that customers that don't sign up for internation plans may sometimes make international calls and these infrequent charges don't matter much to them. But for customers that sign up for international plan, they have intention to make international calls frequently. So if they incur high charges, they will discontinue services.\n",
    "\n",
    "We can confirm this finding by grouping customers by `International plan` and diving deep into the proportion of customer churn."
   ]
  },
  {
   "cell_type": "code",
   "execution_count": 14,
   "metadata": {},
   "outputs": [
    {
     "data": {
      "text/plain": [
       "International plan  Churn\n",
       "No                  No       2664\n",
       "                    Yes       346\n",
       "Yes                 No        186\n",
       "                    Yes       137\n",
       "dtype: int64"
      ]
     },
     "execution_count": 14,
     "metadata": {},
     "output_type": "execute_result"
    }
   ],
   "source": [
    "dat.groupby(by =['International plan', 'Churn']).size()"
   ]
  },
  {
   "cell_type": "code",
   "execution_count": 15,
   "metadata": {},
   "outputs": [
    {
     "data": {
      "text/plain": [
       "International plan  Churn\n",
       "No                  No       0.89\n",
       "                    Yes      0.11\n",
       "Yes                 No       0.58\n",
       "                    Yes      0.42\n",
       "dtype: float64"
      ]
     },
     "execution_count": 15,
     "metadata": {},
     "output_type": "execute_result"
    }
   ],
   "source": [
    "round(dat.groupby(by =['International plan', 'Churn']).size()/dat.groupby('International plan').size(),2)"
   ]
  },
  {
   "cell_type": "markdown",
   "metadata": {},
   "source": [
    "The number of customer churn in the group of `no` international plan is higher than `yes` international plan. But the percentage of customer churn in the group of 'no' international plan is actually lower."
   ]
  },
  {
   "cell_type": "markdown",
   "metadata": {},
   "source": [
    "## 4. Machine Learning"
   ]
  },
  {
   "cell_type": "markdown",
   "metadata": {},
   "source": [
    "In the previous section, we get a sense of which features have more impact on customer churn. Now let's train multiple machine learning models using as many meaningful predictors as available in an effort to find the optimal predictive model. This model would be used to predict whether a new customer discontinues service.\n",
    "\n",
    "Prior to model fitting, we need to conduct data preprocessing which includes train and test set split, class balancing, handling of missing values, categorical variable conversion, removal zero-variance features, and feature scaling."
   ]
  },
  {
   "cell_type": "markdown",
   "metadata": {},
   "source": [
    "## 4.1. Data preprocessing"
   ]
  },
  {
   "cell_type": "markdown",
   "metadata": {},
   "source": [
    "### Train and test set split"
   ]
  },
  {
   "cell_type": "markdown",
   "metadata": {},
   "source": [
    "First let's split our dataset into training set with 80% of instances and test set of 20% instances. The training set will be used to train the model and the test set will be used to evaluate models' generalization performance."
   ]
  },
  {
   "cell_type": "code",
   "execution_count": 16,
   "metadata": {},
   "outputs": [],
   "source": [
    "Train, Test = train_test_split(dat, \n",
    "                               stratify = dat.Churn,\n",
    "                               test_size = 0.20, \n",
    "                               random_state = 101)"
   ]
  },
  {
   "cell_type": "markdown",
   "metadata": {},
   "source": [
    "### Class balancing"
   ]
  },
  {
   "cell_type": "markdown",
   "metadata": {},
   "source": [
    "The previous visualization shows that there's class imbalance in original dataset so we need to check issue in the training set as well."
   ]
  },
  {
   "cell_type": "code",
   "execution_count": 17,
   "metadata": {},
   "outputs": [
    {
     "data": {
      "text/plain": [
       "Churn\n",
       "No     2280\n",
       "Yes     386\n",
       "dtype: int64"
      ]
     },
     "metadata": {},
     "output_type": "display_data"
    },
    {
     "data": {
      "text/plain": [
       "Churn\n",
       "No     0.855\n",
       "Yes    0.145\n",
       "dtype: float64"
      ]
     },
     "metadata": {},
     "output_type": "display_data"
    }
   ],
   "source": [
    "display(Train.groupby('Churn').size(),\n",
    "round(Train.groupby('Churn').size()/len(Train), 3))"
   ]
  },
  {
   "cell_type": "markdown",
   "metadata": {},
   "source": [
    "This target class is highly skewed with 85% No and 15% Yes, posing a challenge for predictive modeling since most machine learning algorithms assume an equal number of instances for each class. Let's resolve this issue by downsampling the majority class (i.e. no) in the training data:"
   ]
  },
  {
   "cell_type": "code",
   "execution_count": 18,
   "metadata": {},
   "outputs": [
    {
     "data": {
      "text/plain": [
       "(772, 18)"
      ]
     },
     "execution_count": 18,
     "metadata": {},
     "output_type": "execute_result"
    }
   ],
   "source": [
    "np.random.seed(101)\n",
    "\n",
    "major_class = np.where(Train.Churn == 'No')[0]\n",
    "minor_class = np.where(Train.Churn == 'Yes')[0]\n",
    "\n",
    "resample = np.random.choice(major_class, size = len(minor_class), replace = False)\n",
    "\n",
    "TrainDS = pd.concat([Train.iloc[minor_class], Train.iloc[resample]])\n",
    "\n",
    "TrainDS.shape"
   ]
  },
  {
   "cell_type": "markdown",
   "metadata": {},
   "source": [
    "Check the output again to make sure we are having a balance class:"
   ]
  },
  {
   "cell_type": "code",
   "execution_count": 19,
   "metadata": {},
   "outputs": [
    {
     "data": {
      "text/plain": [
       "Churn\n",
       "No     386\n",
       "Yes    386\n",
       "dtype: int64"
      ]
     },
     "metadata": {},
     "output_type": "display_data"
    },
    {
     "data": {
      "text/plain": [
       "Churn\n",
       "No     0.5\n",
       "Yes    0.5\n",
       "dtype: float64"
      ]
     },
     "metadata": {},
     "output_type": "display_data"
    }
   ],
   "source": [
    "display(TrainDS.groupby('Churn').size(),\n",
    "round(TrainDS.groupby('Churn').size()/len(TrainDS), 3))"
   ]
  },
  {
   "cell_type": "markdown",
   "metadata": {},
   "source": [
    "### Handling missing values"
   ]
  },
  {
   "cell_type": "markdown",
   "metadata": {},
   "source": [
    "Next let's check missing values in the training set to take care of them since some machine learning models can't handle missing values:"
   ]
  },
  {
   "cell_type": "code",
   "execution_count": 20,
   "metadata": {},
   "outputs": [
    {
     "data": {
      "text/plain": [
       "Account length            0\n",
       "International plan        0\n",
       "Voice mail plan           0\n",
       "Number vmail messages     0\n",
       "Total day minutes         0\n",
       "Total day calls           0\n",
       "Total day charge          0\n",
       "Total eve minutes         0\n",
       "Total eve calls           0\n",
       "Total eve charge          0\n",
       "Total night minutes       0\n",
       "Total night calls         0\n",
       "Total night charge        0\n",
       "Total intl minutes        0\n",
       "Total intl calls          0\n",
       "Total intl charge         0\n",
       "Customer service calls    0\n",
       "Churn                     0\n",
       "dtype: int64"
      ]
     },
     "execution_count": 20,
     "metadata": {},
     "output_type": "execute_result"
    }
   ],
   "source": [
    "TrainDS.isna().sum()"
   ]
  },
  {
   "cell_type": "markdown",
   "metadata": {},
   "source": [
    "There's no missing data in the training data so we can move forward with other pre-processing steps."
   ]
  },
  {
   "cell_type": "markdown",
   "metadata": {},
   "source": [
    "### Converting categorical variables to dummy attributes"
   ]
  },
  {
   "cell_type": "code",
   "execution_count": 21,
   "metadata": {},
   "outputs": [
    {
     "data": {
      "text/html": [
       "<div>\n",
       "<style scoped>\n",
       "    .dataframe tbody tr th:only-of-type {\n",
       "        vertical-align: middle;\n",
       "    }\n",
       "\n",
       "    .dataframe tbody tr th {\n",
       "        vertical-align: top;\n",
       "    }\n",
       "\n",
       "    .dataframe thead th {\n",
       "        text-align: right;\n",
       "    }\n",
       "</style>\n",
       "<table border=\"1\" class=\"dataframe\">\n",
       "  <thead>\n",
       "    <tr style=\"text-align: right;\">\n",
       "      <th></th>\n",
       "      <th>Account length</th>\n",
       "      <th>Number vmail messages</th>\n",
       "      <th>Total day minutes</th>\n",
       "      <th>Total day calls</th>\n",
       "      <th>Total day charge</th>\n",
       "      <th>Total eve minutes</th>\n",
       "      <th>Total eve calls</th>\n",
       "      <th>Total eve charge</th>\n",
       "      <th>Total night minutes</th>\n",
       "      <th>Total night calls</th>\n",
       "      <th>Total night charge</th>\n",
       "      <th>Total intl minutes</th>\n",
       "      <th>Total intl calls</th>\n",
       "      <th>Total intl charge</th>\n",
       "      <th>Customer service calls</th>\n",
       "      <th>Churn</th>\n",
       "      <th>International plan_No</th>\n",
       "      <th>International plan_Yes</th>\n",
       "      <th>Voice mail plan_No</th>\n",
       "      <th>Voice mail plan_Yes</th>\n",
       "    </tr>\n",
       "  </thead>\n",
       "  <tbody>\n",
       "    <tr>\n",
       "      <th>2071</th>\n",
       "      <td>124</td>\n",
       "      <td>0</td>\n",
       "      <td>312.0</td>\n",
       "      <td>112</td>\n",
       "      <td>53.04</td>\n",
       "      <td>180.0</td>\n",
       "      <td>109</td>\n",
       "      <td>15.30</td>\n",
       "      <td>168.6</td>\n",
       "      <td>94</td>\n",
       "      <td>7.59</td>\n",
       "      <td>12.8</td>\n",
       "      <td>4</td>\n",
       "      <td>3.46</td>\n",
       "      <td>1</td>\n",
       "      <td>Yes</td>\n",
       "      <td>1.0</td>\n",
       "      <td>0.0</td>\n",
       "      <td>1.0</td>\n",
       "      <td>0.0</td>\n",
       "    </tr>\n",
       "    <tr>\n",
       "      <th>3218</th>\n",
       "      <td>112</td>\n",
       "      <td>0</td>\n",
       "      <td>266.0</td>\n",
       "      <td>97</td>\n",
       "      <td>45.22</td>\n",
       "      <td>214.6</td>\n",
       "      <td>94</td>\n",
       "      <td>18.24</td>\n",
       "      <td>306.2</td>\n",
       "      <td>100</td>\n",
       "      <td>13.78</td>\n",
       "      <td>14.2</td>\n",
       "      <td>2</td>\n",
       "      <td>3.83</td>\n",
       "      <td>2</td>\n",
       "      <td>Yes</td>\n",
       "      <td>1.0</td>\n",
       "      <td>0.0</td>\n",
       "      <td>1.0</td>\n",
       "      <td>0.0</td>\n",
       "    </tr>\n",
       "    <tr>\n",
       "      <th>201</th>\n",
       "      <td>108</td>\n",
       "      <td>0</td>\n",
       "      <td>198.5</td>\n",
       "      <td>99</td>\n",
       "      <td>33.75</td>\n",
       "      <td>267.8</td>\n",
       "      <td>60</td>\n",
       "      <td>22.76</td>\n",
       "      <td>354.9</td>\n",
       "      <td>75</td>\n",
       "      <td>15.97</td>\n",
       "      <td>9.4</td>\n",
       "      <td>3</td>\n",
       "      <td>2.54</td>\n",
       "      <td>0</td>\n",
       "      <td>Yes</td>\n",
       "      <td>1.0</td>\n",
       "      <td>0.0</td>\n",
       "      <td>1.0</td>\n",
       "      <td>0.0</td>\n",
       "    </tr>\n",
       "    <tr>\n",
       "      <th>2682</th>\n",
       "      <td>77</td>\n",
       "      <td>0</td>\n",
       "      <td>251.8</td>\n",
       "      <td>72</td>\n",
       "      <td>42.81</td>\n",
       "      <td>205.7</td>\n",
       "      <td>126</td>\n",
       "      <td>17.48</td>\n",
       "      <td>275.2</td>\n",
       "      <td>109</td>\n",
       "      <td>12.38</td>\n",
       "      <td>9.8</td>\n",
       "      <td>7</td>\n",
       "      <td>2.65</td>\n",
       "      <td>2</td>\n",
       "      <td>Yes</td>\n",
       "      <td>1.0</td>\n",
       "      <td>0.0</td>\n",
       "      <td>1.0</td>\n",
       "      <td>0.0</td>\n",
       "    </tr>\n",
       "    <tr>\n",
       "      <th>871</th>\n",
       "      <td>111</td>\n",
       "      <td>0</td>\n",
       "      <td>176.9</td>\n",
       "      <td>128</td>\n",
       "      <td>30.07</td>\n",
       "      <td>102.8</td>\n",
       "      <td>56</td>\n",
       "      <td>8.74</td>\n",
       "      <td>213.7</td>\n",
       "      <td>84</td>\n",
       "      <td>9.62</td>\n",
       "      <td>10.5</td>\n",
       "      <td>2</td>\n",
       "      <td>2.84</td>\n",
       "      <td>4</td>\n",
       "      <td>Yes</td>\n",
       "      <td>1.0</td>\n",
       "      <td>0.0</td>\n",
       "      <td>1.0</td>\n",
       "      <td>0.0</td>\n",
       "    </tr>\n",
       "  </tbody>\n",
       "</table>\n",
       "</div>"
      ],
      "text/plain": [
       "      Account length  Number vmail messages  Total day minutes  \\\n",
       "2071             124                      0              312.0   \n",
       "3218             112                      0              266.0   \n",
       "201              108                      0              198.5   \n",
       "2682              77                      0              251.8   \n",
       "871              111                      0              176.9   \n",
       "\n",
       "      Total day calls  Total day charge  Total eve minutes  Total eve calls  \\\n",
       "2071              112             53.04              180.0              109   \n",
       "3218               97             45.22              214.6               94   \n",
       "201                99             33.75              267.8               60   \n",
       "2682               72             42.81              205.7              126   \n",
       "871               128             30.07              102.8               56   \n",
       "\n",
       "      Total eve charge  Total night minutes  Total night calls  \\\n",
       "2071             15.30                168.6                 94   \n",
       "3218             18.24                306.2                100   \n",
       "201              22.76                354.9                 75   \n",
       "2682             17.48                275.2                109   \n",
       "871               8.74                213.7                 84   \n",
       "\n",
       "      Total night charge  Total intl minutes  Total intl calls  \\\n",
       "2071                7.59                12.8                 4   \n",
       "3218               13.78                14.2                 2   \n",
       "201                15.97                 9.4                 3   \n",
       "2682               12.38                 9.8                 7   \n",
       "871                 9.62                10.5                 2   \n",
       "\n",
       "      Total intl charge  Customer service calls Churn  International plan_No  \\\n",
       "2071               3.46                       1   Yes                    1.0   \n",
       "3218               3.83                       2   Yes                    1.0   \n",
       "201                2.54                       0   Yes                    1.0   \n",
       "2682               2.65                       2   Yes                    1.0   \n",
       "871                2.84                       4   Yes                    1.0   \n",
       "\n",
       "      International plan_Yes  Voice mail plan_No  Voice mail plan_Yes  \n",
       "2071                     0.0                 1.0                  0.0  \n",
       "3218                     0.0                 1.0                  0.0  \n",
       "201                      0.0                 1.0                  0.0  \n",
       "2682                     0.0                 1.0                  0.0  \n",
       "871                      0.0                 1.0                  0.0  "
      ]
     },
     "execution_count": 21,
     "metadata": {},
     "output_type": "execute_result"
    }
   ],
   "source": [
    "enc = OneHotEncoder(handle_unknown = 'ignore', sparse = False)\n",
    "\n",
    "enc_raw_data_train = TrainDS.drop(columns = 'Churn').select_dtypes(include = ['object', 'category'])\n",
    "\n",
    "enc = enc.fit(enc_raw_data_train)\n",
    "\n",
    "encoded_data_train = pd.DataFrame(enc.transform(enc_raw_data_train))\n",
    "\n",
    "encoded_data_train.columns = enc.get_feature_names(enc_raw_data_train.columns)\n",
    "encoded_data_train.index = enc_raw_data_train.index\n",
    "\n",
    "TrainDS_Enc = pd.concat([TrainDS.drop(enc_raw_data_train.columns, axis = 1), encoded_data_train], axis = 1)\n",
    "\n",
    "TrainDS_Enc.head()"
   ]
  },
  {
   "cell_type": "code",
   "execution_count": 22,
   "metadata": {},
   "outputs": [
    {
     "data": {
      "text/plain": [
       "(772, 20)"
      ]
     },
     "execution_count": 22,
     "metadata": {},
     "output_type": "execute_result"
    }
   ],
   "source": [
    "TrainDS_Enc.shape"
   ]
  },
  {
   "cell_type": "markdown",
   "metadata": {},
   "source": [
    "### Removing zero-variance features"
   ]
  },
  {
   "cell_type": "markdown",
   "metadata": {},
   "source": [
    "Features with zero variance have almost no predictive power so let's remove them using a variance threshold approach."
   ]
  },
  {
   "cell_type": "code",
   "execution_count": 23,
   "metadata": {},
   "outputs": [
    {
     "data": {
      "text/html": [
       "<div>\n",
       "<style scoped>\n",
       "    .dataframe tbody tr th:only-of-type {\n",
       "        vertical-align: middle;\n",
       "    }\n",
       "\n",
       "    .dataframe tbody tr th {\n",
       "        vertical-align: top;\n",
       "    }\n",
       "\n",
       "    .dataframe thead th {\n",
       "        text-align: right;\n",
       "    }\n",
       "</style>\n",
       "<table border=\"1\" class=\"dataframe\">\n",
       "  <thead>\n",
       "    <tr style=\"text-align: right;\">\n",
       "      <th></th>\n",
       "      <th>Churn</th>\n",
       "      <th>Account length</th>\n",
       "      <th>Number vmail messages</th>\n",
       "      <th>Total day minutes</th>\n",
       "      <th>Total day calls</th>\n",
       "      <th>Total day charge</th>\n",
       "      <th>Total eve minutes</th>\n",
       "      <th>Total eve calls</th>\n",
       "      <th>Total eve charge</th>\n",
       "      <th>Total night minutes</th>\n",
       "      <th>Total night calls</th>\n",
       "      <th>Total night charge</th>\n",
       "      <th>Total intl minutes</th>\n",
       "      <th>Total intl calls</th>\n",
       "      <th>Total intl charge</th>\n",
       "      <th>Customer service calls</th>\n",
       "      <th>International plan_No</th>\n",
       "      <th>International plan_Yes</th>\n",
       "      <th>Voice mail plan_No</th>\n",
       "      <th>Voice mail plan_Yes</th>\n",
       "    </tr>\n",
       "  </thead>\n",
       "  <tbody>\n",
       "    <tr>\n",
       "      <th>2071</th>\n",
       "      <td>Yes</td>\n",
       "      <td>124</td>\n",
       "      <td>0</td>\n",
       "      <td>312.0</td>\n",
       "      <td>112</td>\n",
       "      <td>53.04</td>\n",
       "      <td>180.0</td>\n",
       "      <td>109</td>\n",
       "      <td>15.30</td>\n",
       "      <td>168.6</td>\n",
       "      <td>94</td>\n",
       "      <td>7.59</td>\n",
       "      <td>12.8</td>\n",
       "      <td>4</td>\n",
       "      <td>3.46</td>\n",
       "      <td>1</td>\n",
       "      <td>1.0</td>\n",
       "      <td>0.0</td>\n",
       "      <td>1.0</td>\n",
       "      <td>0.0</td>\n",
       "    </tr>\n",
       "    <tr>\n",
       "      <th>3218</th>\n",
       "      <td>Yes</td>\n",
       "      <td>112</td>\n",
       "      <td>0</td>\n",
       "      <td>266.0</td>\n",
       "      <td>97</td>\n",
       "      <td>45.22</td>\n",
       "      <td>214.6</td>\n",
       "      <td>94</td>\n",
       "      <td>18.24</td>\n",
       "      <td>306.2</td>\n",
       "      <td>100</td>\n",
       "      <td>13.78</td>\n",
       "      <td>14.2</td>\n",
       "      <td>2</td>\n",
       "      <td>3.83</td>\n",
       "      <td>2</td>\n",
       "      <td>1.0</td>\n",
       "      <td>0.0</td>\n",
       "      <td>1.0</td>\n",
       "      <td>0.0</td>\n",
       "    </tr>\n",
       "    <tr>\n",
       "      <th>201</th>\n",
       "      <td>Yes</td>\n",
       "      <td>108</td>\n",
       "      <td>0</td>\n",
       "      <td>198.5</td>\n",
       "      <td>99</td>\n",
       "      <td>33.75</td>\n",
       "      <td>267.8</td>\n",
       "      <td>60</td>\n",
       "      <td>22.76</td>\n",
       "      <td>354.9</td>\n",
       "      <td>75</td>\n",
       "      <td>15.97</td>\n",
       "      <td>9.4</td>\n",
       "      <td>3</td>\n",
       "      <td>2.54</td>\n",
       "      <td>0</td>\n",
       "      <td>1.0</td>\n",
       "      <td>0.0</td>\n",
       "      <td>1.0</td>\n",
       "      <td>0.0</td>\n",
       "    </tr>\n",
       "    <tr>\n",
       "      <th>2682</th>\n",
       "      <td>Yes</td>\n",
       "      <td>77</td>\n",
       "      <td>0</td>\n",
       "      <td>251.8</td>\n",
       "      <td>72</td>\n",
       "      <td>42.81</td>\n",
       "      <td>205.7</td>\n",
       "      <td>126</td>\n",
       "      <td>17.48</td>\n",
       "      <td>275.2</td>\n",
       "      <td>109</td>\n",
       "      <td>12.38</td>\n",
       "      <td>9.8</td>\n",
       "      <td>7</td>\n",
       "      <td>2.65</td>\n",
       "      <td>2</td>\n",
       "      <td>1.0</td>\n",
       "      <td>0.0</td>\n",
       "      <td>1.0</td>\n",
       "      <td>0.0</td>\n",
       "    </tr>\n",
       "    <tr>\n",
       "      <th>871</th>\n",
       "      <td>Yes</td>\n",
       "      <td>111</td>\n",
       "      <td>0</td>\n",
       "      <td>176.9</td>\n",
       "      <td>128</td>\n",
       "      <td>30.07</td>\n",
       "      <td>102.8</td>\n",
       "      <td>56</td>\n",
       "      <td>8.74</td>\n",
       "      <td>213.7</td>\n",
       "      <td>84</td>\n",
       "      <td>9.62</td>\n",
       "      <td>10.5</td>\n",
       "      <td>2</td>\n",
       "      <td>2.84</td>\n",
       "      <td>4</td>\n",
       "      <td>1.0</td>\n",
       "      <td>0.0</td>\n",
       "      <td>1.0</td>\n",
       "      <td>0.0</td>\n",
       "    </tr>\n",
       "  </tbody>\n",
       "</table>\n",
       "</div>"
      ],
      "text/plain": [
       "     Churn  Account length  Number vmail messages  Total day minutes  \\\n",
       "2071   Yes             124                      0              312.0   \n",
       "3218   Yes             112                      0              266.0   \n",
       "201    Yes             108                      0              198.5   \n",
       "2682   Yes              77                      0              251.8   \n",
       "871    Yes             111                      0              176.9   \n",
       "\n",
       "      Total day calls  Total day charge  Total eve minutes  Total eve calls  \\\n",
       "2071              112             53.04              180.0              109   \n",
       "3218               97             45.22              214.6               94   \n",
       "201                99             33.75              267.8               60   \n",
       "2682               72             42.81              205.7              126   \n",
       "871               128             30.07              102.8               56   \n",
       "\n",
       "      Total eve charge  Total night minutes  Total night calls  \\\n",
       "2071             15.30                168.6                 94   \n",
       "3218             18.24                306.2                100   \n",
       "201              22.76                354.9                 75   \n",
       "2682             17.48                275.2                109   \n",
       "871               8.74                213.7                 84   \n",
       "\n",
       "      Total night charge  Total intl minutes  Total intl calls  \\\n",
       "2071                7.59                12.8                 4   \n",
       "3218               13.78                14.2                 2   \n",
       "201                15.97                 9.4                 3   \n",
       "2682               12.38                 9.8                 7   \n",
       "871                 9.62                10.5                 2   \n",
       "\n",
       "      Total intl charge  Customer service calls  International plan_No  \\\n",
       "2071               3.46                       1                    1.0   \n",
       "3218               3.83                       2                    1.0   \n",
       "201                2.54                       0                    1.0   \n",
       "2682               2.65                       2                    1.0   \n",
       "871                2.84                       4                    1.0   \n",
       "\n",
       "      International plan_Yes  Voice mail plan_No  Voice mail plan_Yes  \n",
       "2071                     0.0                 1.0                  0.0  \n",
       "3218                     0.0                 1.0                  0.0  \n",
       "201                      0.0                 1.0                  0.0  \n",
       "2682                     0.0                 1.0                  0.0  \n",
       "871                      0.0                 1.0                  0.0  "
      ]
     },
     "execution_count": 23,
     "metadata": {},
     "output_type": "execute_result"
    }
   ],
   "source": [
    "selector = VarianceThreshold()\n",
    "\n",
    "sel_raw_data_train = TrainDS_Enc.drop(columns = 'Churn')\n",
    "\n",
    "selector = selector.fit(sel_raw_data_train)\n",
    "\n",
    "selected_data_train = sel_raw_data_train.iloc[:, selector.get_support(indices = True)]\n",
    "\n",
    "TrainDS_EncSel = pd.concat([TrainDS_Enc.drop(sel_raw_data_train.columns, axis = 1), selected_data_train], axis = 1)\n",
    "\n",
    "TrainDS_EncSel.head()"
   ]
  },
  {
   "cell_type": "code",
   "execution_count": 24,
   "metadata": {},
   "outputs": [
    {
     "data": {
      "text/plain": [
       "(772, 20)"
      ]
     },
     "execution_count": 24,
     "metadata": {},
     "output_type": "execute_result"
    }
   ],
   "source": [
    "TrainDS_EncSel.shape"
   ]
  },
  {
   "cell_type": "markdown",
   "metadata": {},
   "source": [
    "The number of features remains unchanged so there was no zero variance features"
   ]
  },
  {
   "cell_type": "markdown",
   "metadata": {},
   "source": [
    "### Scaling features"
   ]
  },
  {
   "cell_type": "markdown",
   "metadata": {},
   "source": [
    "Machine Learning algorithms don't perform well when the input numberical features have very different scales. They make assumption that high ranging numbers have more predictive power than low ranging numbers. Let's mitigate this issue by leveraging Robust Scaler from `sklearn` to scale our numerical features."
   ]
  },
  {
   "cell_type": "code",
   "execution_count": 25,
   "metadata": {},
   "outputs": [
    {
     "data": {
      "text/html": [
       "<div>\n",
       "<style scoped>\n",
       "    .dataframe tbody tr th:only-of-type {\n",
       "        vertical-align: middle;\n",
       "    }\n",
       "\n",
       "    .dataframe tbody tr th {\n",
       "        vertical-align: top;\n",
       "    }\n",
       "\n",
       "    .dataframe thead th {\n",
       "        text-align: right;\n",
       "    }\n",
       "</style>\n",
       "<table border=\"1\" class=\"dataframe\">\n",
       "  <thead>\n",
       "    <tr style=\"text-align: right;\">\n",
       "      <th></th>\n",
       "      <th>Churn</th>\n",
       "      <th>Account length</th>\n",
       "      <th>Number vmail messages</th>\n",
       "      <th>Total day minutes</th>\n",
       "      <th>Total day calls</th>\n",
       "      <th>Total day charge</th>\n",
       "      <th>Total eve minutes</th>\n",
       "      <th>Total eve calls</th>\n",
       "      <th>Total eve charge</th>\n",
       "      <th>Total night minutes</th>\n",
       "      <th>Total night calls</th>\n",
       "      <th>Total night charge</th>\n",
       "      <th>Total intl minutes</th>\n",
       "      <th>Total intl calls</th>\n",
       "      <th>Total intl charge</th>\n",
       "      <th>Customer service calls</th>\n",
       "      <th>International plan_No</th>\n",
       "      <th>International plan_Yes</th>\n",
       "      <th>Voice mail plan_No</th>\n",
       "      <th>Voice mail plan_Yes</th>\n",
       "    </tr>\n",
       "  </thead>\n",
       "  <tbody>\n",
       "    <tr>\n",
       "      <th>2071</th>\n",
       "      <td>Yes</td>\n",
       "      <td>0.432692</td>\n",
       "      <td>0.0</td>\n",
       "      <td>1.391232</td>\n",
       "      <td>0.380952</td>\n",
       "      <td>1.391403</td>\n",
       "      <td>-0.353641</td>\n",
       "      <td>0.333333</td>\n",
       "      <td>-0.353523</td>\n",
       "      <td>-0.512177</td>\n",
       "      <td>-0.222222</td>\n",
       "      <td>-0.511093</td>\n",
       "      <td>0.705882</td>\n",
       "      <td>0.0</td>\n",
       "      <td>0.714286</td>\n",
       "      <td>-0.5</td>\n",
       "      <td>0.0</td>\n",
       "      <td>0.0</td>\n",
       "      <td>0.0</td>\n",
       "      <td>0.0</td>\n",
       "    </tr>\n",
       "    <tr>\n",
       "      <th>3218</th>\n",
       "      <td>Yes</td>\n",
       "      <td>0.201923</td>\n",
       "      <td>0.0</td>\n",
       "      <td>0.883926</td>\n",
       "      <td>-0.190476</td>\n",
       "      <td>0.884023</td>\n",
       "      <td>0.130952</td>\n",
       "      <td>-0.222222</td>\n",
       "      <td>0.131026</td>\n",
       "      <td>1.518819</td>\n",
       "      <td>0.000000</td>\n",
       "      <td>1.523418</td>\n",
       "      <td>1.117647</td>\n",
       "      <td>-1.0</td>\n",
       "      <td>1.120879</td>\n",
       "      <td>0.0</td>\n",
       "      <td>0.0</td>\n",
       "      <td>0.0</td>\n",
       "      <td>0.0</td>\n",
       "      <td>0.0</td>\n",
       "    </tr>\n",
       "    <tr>\n",
       "      <th>201</th>\n",
       "      <td>Yes</td>\n",
       "      <td>0.125000</td>\n",
       "      <td>0.0</td>\n",
       "      <td>0.139509</td>\n",
       "      <td>-0.114286</td>\n",
       "      <td>0.139822</td>\n",
       "      <td>0.876050</td>\n",
       "      <td>-1.481481</td>\n",
       "      <td>0.875979</td>\n",
       "      <td>2.237638</td>\n",
       "      <td>-0.925926</td>\n",
       "      <td>2.243221</td>\n",
       "      <td>-0.294118</td>\n",
       "      <td>-0.5</td>\n",
       "      <td>-0.296703</td>\n",
       "      <td>-1.0</td>\n",
       "      <td>0.0</td>\n",
       "      <td>0.0</td>\n",
       "      <td>0.0</td>\n",
       "      <td>0.0</td>\n",
       "    </tr>\n",
       "    <tr>\n",
       "      <th>2682</th>\n",
       "      <td>Yes</td>\n",
       "      <td>-0.471154</td>\n",
       "      <td>0.0</td>\n",
       "      <td>0.727323</td>\n",
       "      <td>-1.142857</td>\n",
       "      <td>0.727656</td>\n",
       "      <td>0.006303</td>\n",
       "      <td>0.962963</td>\n",
       "      <td>0.005768</td>\n",
       "      <td>1.061255</td>\n",
       "      <td>0.333333</td>\n",
       "      <td>1.063270</td>\n",
       "      <td>-0.176471</td>\n",
       "      <td>1.5</td>\n",
       "      <td>-0.175824</td>\n",
       "      <td>0.0</td>\n",
       "      <td>0.0</td>\n",
       "      <td>0.0</td>\n",
       "      <td>0.0</td>\n",
       "      <td>0.0</td>\n",
       "    </tr>\n",
       "    <tr>\n",
       "      <th>871</th>\n",
       "      <td>Yes</td>\n",
       "      <td>0.182692</td>\n",
       "      <td>0.0</td>\n",
       "      <td>-0.098704</td>\n",
       "      <td>0.990476</td>\n",
       "      <td>-0.098946</td>\n",
       "      <td>-1.434874</td>\n",
       "      <td>-1.629630</td>\n",
       "      <td>-1.434693</td>\n",
       "      <td>0.153506</td>\n",
       "      <td>-0.592593</td>\n",
       "      <td>0.156122</td>\n",
       "      <td>0.029412</td>\n",
       "      <td>-1.0</td>\n",
       "      <td>0.032967</td>\n",
       "      <td>1.0</td>\n",
       "      <td>0.0</td>\n",
       "      <td>0.0</td>\n",
       "      <td>0.0</td>\n",
       "      <td>0.0</td>\n",
       "    </tr>\n",
       "  </tbody>\n",
       "</table>\n",
       "</div>"
      ],
      "text/plain": [
       "     Churn  Account length  Number vmail messages  Total day minutes  \\\n",
       "2071   Yes        0.432692                    0.0           1.391232   \n",
       "3218   Yes        0.201923                    0.0           0.883926   \n",
       "201    Yes        0.125000                    0.0           0.139509   \n",
       "2682   Yes       -0.471154                    0.0           0.727323   \n",
       "871    Yes        0.182692                    0.0          -0.098704   \n",
       "\n",
       "      Total day calls  Total day charge  Total eve minutes  Total eve calls  \\\n",
       "2071         0.380952          1.391403          -0.353641         0.333333   \n",
       "3218        -0.190476          0.884023           0.130952        -0.222222   \n",
       "201         -0.114286          0.139822           0.876050        -1.481481   \n",
       "2682        -1.142857          0.727656           0.006303         0.962963   \n",
       "871          0.990476         -0.098946          -1.434874        -1.629630   \n",
       "\n",
       "      Total eve charge  Total night minutes  Total night calls  \\\n",
       "2071         -0.353523            -0.512177          -0.222222   \n",
       "3218          0.131026             1.518819           0.000000   \n",
       "201           0.875979             2.237638          -0.925926   \n",
       "2682          0.005768             1.061255           0.333333   \n",
       "871          -1.434693             0.153506          -0.592593   \n",
       "\n",
       "      Total night charge  Total intl minutes  Total intl calls  \\\n",
       "2071           -0.511093            0.705882               0.0   \n",
       "3218            1.523418            1.117647              -1.0   \n",
       "201             2.243221           -0.294118              -0.5   \n",
       "2682            1.063270           -0.176471               1.5   \n",
       "871             0.156122            0.029412              -1.0   \n",
       "\n",
       "      Total intl charge  Customer service calls  International plan_No  \\\n",
       "2071           0.714286                    -0.5                    0.0   \n",
       "3218           1.120879                     0.0                    0.0   \n",
       "201           -0.296703                    -1.0                    0.0   \n",
       "2682          -0.175824                     0.0                    0.0   \n",
       "871            0.032967                     1.0                    0.0   \n",
       "\n",
       "      International plan_Yes  Voice mail plan_No  Voice mail plan_Yes  \n",
       "2071                     0.0                 0.0                  0.0  \n",
       "3218                     0.0                 0.0                  0.0  \n",
       "201                      0.0                 0.0                  0.0  \n",
       "2682                     0.0                 0.0                  0.0  \n",
       "871                      0.0                 0.0                  0.0  "
      ]
     },
     "execution_count": 25,
     "metadata": {},
     "output_type": "execute_result"
    }
   ],
   "source": [
    "scaler = RobustScaler()\n",
    "\n",
    "sca_raw_data_train = TrainDS_EncSel.drop(columns = 'Churn').select_dtypes(exclude = ['object', 'category'])\n",
    "\n",
    "scaler = scaler.fit(sca_raw_data_train)\n",
    "\n",
    "scaled_data_train = pd.DataFrame(scaler.transform(sca_raw_data_train))\n",
    "\n",
    "scaled_data_train.columns = sca_raw_data_train.columns\n",
    "scaled_data_train.index = sca_raw_data_train.index\n",
    "\n",
    "TrainDS_EncSelSca = pd.concat([TrainDS_EncSel.drop(sca_raw_data_train.columns, axis = 1), scaled_data_train], axis = 1)\n",
    "\n",
    "TrainDS_EncSelSca.head()"
   ]
  },
  {
   "cell_type": "markdown",
   "metadata": {},
   "source": [
    "### Pre-processing test set"
   ]
  },
  {
   "cell_type": "markdown",
   "metadata": {},
   "source": [
    "Those are all pre-processing steps for training set. Now we need to apply all of what we performed earlier to the test set as well so we can evaluate models' generalization performance. In order to avoid ***data leakage***, we need to pre-process test set using values from training set."
   ]
  },
  {
   "cell_type": "code",
   "execution_count": 26,
   "metadata": {},
   "outputs": [
    {
     "data": {
      "text/html": [
       "<div>\n",
       "<style scoped>\n",
       "    .dataframe tbody tr th:only-of-type {\n",
       "        vertical-align: middle;\n",
       "    }\n",
       "\n",
       "    .dataframe tbody tr th {\n",
       "        vertical-align: top;\n",
       "    }\n",
       "\n",
       "    .dataframe thead th {\n",
       "        text-align: right;\n",
       "    }\n",
       "</style>\n",
       "<table border=\"1\" class=\"dataframe\">\n",
       "  <thead>\n",
       "    <tr style=\"text-align: right;\">\n",
       "      <th></th>\n",
       "      <th>Account length</th>\n",
       "      <th>International plan</th>\n",
       "      <th>Voice mail plan</th>\n",
       "      <th>Number vmail messages</th>\n",
       "      <th>Total day minutes</th>\n",
       "      <th>Total day calls</th>\n",
       "      <th>Total day charge</th>\n",
       "      <th>Total eve minutes</th>\n",
       "      <th>Total eve calls</th>\n",
       "      <th>Total eve charge</th>\n",
       "      <th>Total night minutes</th>\n",
       "      <th>Total night calls</th>\n",
       "      <th>Total night charge</th>\n",
       "      <th>Total intl minutes</th>\n",
       "      <th>Total intl calls</th>\n",
       "      <th>Total intl charge</th>\n",
       "      <th>Customer service calls</th>\n",
       "      <th>Churn</th>\n",
       "    </tr>\n",
       "  </thead>\n",
       "  <tbody>\n",
       "    <tr>\n",
       "      <th>413</th>\n",
       "      <td>60</td>\n",
       "      <td>Yes</td>\n",
       "      <td>Yes</td>\n",
       "      <td>29</td>\n",
       "      <td>265.9</td>\n",
       "      <td>113</td>\n",
       "      <td>45.20</td>\n",
       "      <td>215.8</td>\n",
       "      <td>94</td>\n",
       "      <td>18.34</td>\n",
       "      <td>108.1</td>\n",
       "      <td>82</td>\n",
       "      <td>4.86</td>\n",
       "      <td>14.0</td>\n",
       "      <td>12</td>\n",
       "      <td>3.78</td>\n",
       "      <td>0</td>\n",
       "      <td>Yes</td>\n",
       "    </tr>\n",
       "    <tr>\n",
       "      <th>2229</th>\n",
       "      <td>121</td>\n",
       "      <td>No</td>\n",
       "      <td>Yes</td>\n",
       "      <td>44</td>\n",
       "      <td>116.0</td>\n",
       "      <td>85</td>\n",
       "      <td>19.72</td>\n",
       "      <td>150.1</td>\n",
       "      <td>120</td>\n",
       "      <td>12.76</td>\n",
       "      <td>246.8</td>\n",
       "      <td>98</td>\n",
       "      <td>11.11</td>\n",
       "      <td>12.0</td>\n",
       "      <td>2</td>\n",
       "      <td>3.24</td>\n",
       "      <td>1</td>\n",
       "      <td>No</td>\n",
       "    </tr>\n",
       "    <tr>\n",
       "      <th>2869</th>\n",
       "      <td>129</td>\n",
       "      <td>No</td>\n",
       "      <td>No</td>\n",
       "      <td>0</td>\n",
       "      <td>334.3</td>\n",
       "      <td>118</td>\n",
       "      <td>56.83</td>\n",
       "      <td>192.1</td>\n",
       "      <td>104</td>\n",
       "      <td>16.33</td>\n",
       "      <td>191.0</td>\n",
       "      <td>83</td>\n",
       "      <td>8.59</td>\n",
       "      <td>10.4</td>\n",
       "      <td>6</td>\n",
       "      <td>2.81</td>\n",
       "      <td>0</td>\n",
       "      <td>Yes</td>\n",
       "    </tr>\n",
       "    <tr>\n",
       "      <th>2920</th>\n",
       "      <td>92</td>\n",
       "      <td>No</td>\n",
       "      <td>Yes</td>\n",
       "      <td>25</td>\n",
       "      <td>134.0</td>\n",
       "      <td>112</td>\n",
       "      <td>22.78</td>\n",
       "      <td>206.0</td>\n",
       "      <td>111</td>\n",
       "      <td>17.51</td>\n",
       "      <td>180.6</td>\n",
       "      <td>118</td>\n",
       "      <td>8.13</td>\n",
       "      <td>9.7</td>\n",
       "      <td>4</td>\n",
       "      <td>2.62</td>\n",
       "      <td>0</td>\n",
       "      <td>No</td>\n",
       "    </tr>\n",
       "    <tr>\n",
       "      <th>935</th>\n",
       "      <td>130</td>\n",
       "      <td>No</td>\n",
       "      <td>Yes</td>\n",
       "      <td>12</td>\n",
       "      <td>141.9</td>\n",
       "      <td>92</td>\n",
       "      <td>24.12</td>\n",
       "      <td>228.9</td>\n",
       "      <td>102</td>\n",
       "      <td>19.46</td>\n",
       "      <td>195.1</td>\n",
       "      <td>101</td>\n",
       "      <td>8.78</td>\n",
       "      <td>8.7</td>\n",
       "      <td>5</td>\n",
       "      <td>2.35</td>\n",
       "      <td>0</td>\n",
       "      <td>No</td>\n",
       "    </tr>\n",
       "  </tbody>\n",
       "</table>\n",
       "</div>"
      ],
      "text/plain": [
       "      Account length International plan Voice mail plan  \\\n",
       "413               60                Yes             Yes   \n",
       "2229             121                 No             Yes   \n",
       "2869             129                 No              No   \n",
       "2920              92                 No             Yes   \n",
       "935              130                 No             Yes   \n",
       "\n",
       "      Number vmail messages  Total day minutes  Total day calls  \\\n",
       "413                      29              265.9              113   \n",
       "2229                     44              116.0               85   \n",
       "2869                      0              334.3              118   \n",
       "2920                     25              134.0              112   \n",
       "935                      12              141.9               92   \n",
       "\n",
       "      Total day charge  Total eve minutes  Total eve calls  Total eve charge  \\\n",
       "413              45.20              215.8               94             18.34   \n",
       "2229             19.72              150.1              120             12.76   \n",
       "2869             56.83              192.1              104             16.33   \n",
       "2920             22.78              206.0              111             17.51   \n",
       "935              24.12              228.9              102             19.46   \n",
       "\n",
       "      Total night minutes  Total night calls  Total night charge  \\\n",
       "413                 108.1                 82                4.86   \n",
       "2229                246.8                 98               11.11   \n",
       "2869                191.0                 83                8.59   \n",
       "2920                180.6                118                8.13   \n",
       "935                 195.1                101                8.78   \n",
       "\n",
       "      Total intl minutes  Total intl calls  Total intl charge  \\\n",
       "413                 14.0                12               3.78   \n",
       "2229                12.0                 2               3.24   \n",
       "2869                10.4                 6               2.81   \n",
       "2920                 9.7                 4               2.62   \n",
       "935                  8.7                 5               2.35   \n",
       "\n",
       "      Customer service calls Churn  \n",
       "413                        0   Yes  \n",
       "2229                       1    No  \n",
       "2869                       0   Yes  \n",
       "2920                       0    No  \n",
       "935                        0    No  "
      ]
     },
     "execution_count": 26,
     "metadata": {},
     "output_type": "execute_result"
    }
   ],
   "source": [
    "# Take a look at the first 5 rows of test set\n",
    "Test.head()"
   ]
  },
  {
   "cell_type": "code",
   "execution_count": 27,
   "metadata": {},
   "outputs": [
    {
     "data": {
      "text/plain": [
       "Account length            0\n",
       "International plan        0\n",
       "Voice mail plan           0\n",
       "Number vmail messages     0\n",
       "Total day minutes         0\n",
       "Total day calls           0\n",
       "Total day charge          0\n",
       "Total eve minutes         0\n",
       "Total eve calls           0\n",
       "Total eve charge          0\n",
       "Total night minutes       0\n",
       "Total night calls         0\n",
       "Total night charge        0\n",
       "Total intl minutes        0\n",
       "Total intl calls          0\n",
       "Total intl charge         0\n",
       "Customer service calls    0\n",
       "Churn                     0\n",
       "dtype: int64"
      ]
     },
     "execution_count": 27,
     "metadata": {},
     "output_type": "execute_result"
    }
   ],
   "source": [
    "Test.isna().sum()"
   ]
  },
  {
   "cell_type": "markdown",
   "metadata": {},
   "source": [
    "No missing data exist in the test set so we don't need to perform imputation."
   ]
  },
  {
   "cell_type": "code",
   "execution_count": 28,
   "metadata": {},
   "outputs": [
    {
     "data": {
      "text/html": [
       "<div>\n",
       "<style scoped>\n",
       "    .dataframe tbody tr th:only-of-type {\n",
       "        vertical-align: middle;\n",
       "    }\n",
       "\n",
       "    .dataframe tbody tr th {\n",
       "        vertical-align: top;\n",
       "    }\n",
       "\n",
       "    .dataframe thead th {\n",
       "        text-align: right;\n",
       "    }\n",
       "</style>\n",
       "<table border=\"1\" class=\"dataframe\">\n",
       "  <thead>\n",
       "    <tr style=\"text-align: right;\">\n",
       "      <th></th>\n",
       "      <th>Churn</th>\n",
       "      <th>Account length</th>\n",
       "      <th>Number vmail messages</th>\n",
       "      <th>Total day minutes</th>\n",
       "      <th>Total day calls</th>\n",
       "      <th>Total day charge</th>\n",
       "      <th>Total eve minutes</th>\n",
       "      <th>Total eve calls</th>\n",
       "      <th>Total eve charge</th>\n",
       "      <th>Total night minutes</th>\n",
       "      <th>Total night calls</th>\n",
       "      <th>Total night charge</th>\n",
       "      <th>Total intl minutes</th>\n",
       "      <th>Total intl calls</th>\n",
       "      <th>Total intl charge</th>\n",
       "      <th>Customer service calls</th>\n",
       "      <th>International plan_No</th>\n",
       "      <th>International plan_Yes</th>\n",
       "      <th>Voice mail plan_No</th>\n",
       "      <th>Voice mail plan_Yes</th>\n",
       "    </tr>\n",
       "  </thead>\n",
       "  <tbody>\n",
       "    <tr>\n",
       "      <th>413</th>\n",
       "      <td>Yes</td>\n",
       "      <td>-0.798077</td>\n",
       "      <td>29.0</td>\n",
       "      <td>0.882823</td>\n",
       "      <td>0.419048</td>\n",
       "      <td>0.882725</td>\n",
       "      <td>0.147759</td>\n",
       "      <td>-0.222222</td>\n",
       "      <td>0.147507</td>\n",
       "      <td>-1.405166</td>\n",
       "      <td>-0.666667</td>\n",
       "      <td>-1.408381</td>\n",
       "      <td>1.058824</td>\n",
       "      <td>4.0</td>\n",
       "      <td>1.065934</td>\n",
       "      <td>-1.0</td>\n",
       "      <td>-1.0</td>\n",
       "      <td>1.0</td>\n",
       "      <td>-1.0</td>\n",
       "      <td>1.0</td>\n",
       "    </tr>\n",
       "    <tr>\n",
       "      <th>2229</th>\n",
       "      <td>No</td>\n",
       "      <td>0.375000</td>\n",
       "      <td>44.0</td>\n",
       "      <td>-0.770334</td>\n",
       "      <td>-0.647619</td>\n",
       "      <td>-0.770479</td>\n",
       "      <td>-0.772409</td>\n",
       "      <td>0.740741</td>\n",
       "      <td>-0.772147</td>\n",
       "      <td>0.642066</td>\n",
       "      <td>-0.074074</td>\n",
       "      <td>0.645850</td>\n",
       "      <td>0.470588</td>\n",
       "      <td>-1.0</td>\n",
       "      <td>0.472527</td>\n",
       "      <td>-0.5</td>\n",
       "      <td>0.0</td>\n",
       "      <td>0.0</td>\n",
       "      <td>-1.0</td>\n",
       "      <td>1.0</td>\n",
       "    </tr>\n",
       "    <tr>\n",
       "      <th>2869</th>\n",
       "      <td>Yes</td>\n",
       "      <td>0.528846</td>\n",
       "      <td>0.0</td>\n",
       "      <td>1.637166</td>\n",
       "      <td>0.609524</td>\n",
       "      <td>1.637307</td>\n",
       "      <td>-0.184174</td>\n",
       "      <td>0.148148</td>\n",
       "      <td>-0.183766</td>\n",
       "      <td>-0.181550</td>\n",
       "      <td>-0.629630</td>\n",
       "      <td>-0.182416</td>\n",
       "      <td>0.000000</td>\n",
       "      <td>1.0</td>\n",
       "      <td>0.000000</td>\n",
       "      <td>-1.0</td>\n",
       "      <td>0.0</td>\n",
       "      <td>0.0</td>\n",
       "      <td>0.0</td>\n",
       "      <td>0.0</td>\n",
       "    </tr>\n",
       "    <tr>\n",
       "      <th>2920</th>\n",
       "      <td>No</td>\n",
       "      <td>-0.182692</td>\n",
       "      <td>25.0</td>\n",
       "      <td>-0.571822</td>\n",
       "      <td>0.380952</td>\n",
       "      <td>-0.571938</td>\n",
       "      <td>0.010504</td>\n",
       "      <td>0.407407</td>\n",
       "      <td>0.010713</td>\n",
       "      <td>-0.335055</td>\n",
       "      <td>0.666667</td>\n",
       "      <td>-0.333607</td>\n",
       "      <td>-0.205882</td>\n",
       "      <td>0.0</td>\n",
       "      <td>-0.208791</td>\n",
       "      <td>-1.0</td>\n",
       "      <td>0.0</td>\n",
       "      <td>0.0</td>\n",
       "      <td>-1.0</td>\n",
       "      <td>1.0</td>\n",
       "    </tr>\n",
       "    <tr>\n",
       "      <th>935</th>\n",
       "      <td>No</td>\n",
       "      <td>0.548077</td>\n",
       "      <td>12.0</td>\n",
       "      <td>-0.484698</td>\n",
       "      <td>-0.380952</td>\n",
       "      <td>-0.484996</td>\n",
       "      <td>0.331232</td>\n",
       "      <td>0.074074</td>\n",
       "      <td>0.332097</td>\n",
       "      <td>-0.121033</td>\n",
       "      <td>0.037037</td>\n",
       "      <td>-0.119967</td>\n",
       "      <td>-0.500000</td>\n",
       "      <td>0.5</td>\n",
       "      <td>-0.505495</td>\n",
       "      <td>-1.0</td>\n",
       "      <td>0.0</td>\n",
       "      <td>0.0</td>\n",
       "      <td>-1.0</td>\n",
       "      <td>1.0</td>\n",
       "    </tr>\n",
       "  </tbody>\n",
       "</table>\n",
       "</div>"
      ],
      "text/plain": [
       "     Churn  Account length  Number vmail messages  Total day minutes  \\\n",
       "413    Yes       -0.798077                   29.0           0.882823   \n",
       "2229    No        0.375000                   44.0          -0.770334   \n",
       "2869   Yes        0.528846                    0.0           1.637166   \n",
       "2920    No       -0.182692                   25.0          -0.571822   \n",
       "935     No        0.548077                   12.0          -0.484698   \n",
       "\n",
       "      Total day calls  Total day charge  Total eve minutes  Total eve calls  \\\n",
       "413          0.419048          0.882725           0.147759        -0.222222   \n",
       "2229        -0.647619         -0.770479          -0.772409         0.740741   \n",
       "2869         0.609524          1.637307          -0.184174         0.148148   \n",
       "2920         0.380952         -0.571938           0.010504         0.407407   \n",
       "935         -0.380952         -0.484996           0.331232         0.074074   \n",
       "\n",
       "      Total eve charge  Total night minutes  Total night calls  \\\n",
       "413           0.147507            -1.405166          -0.666667   \n",
       "2229         -0.772147             0.642066          -0.074074   \n",
       "2869         -0.183766            -0.181550          -0.629630   \n",
       "2920          0.010713            -0.335055           0.666667   \n",
       "935           0.332097            -0.121033           0.037037   \n",
       "\n",
       "      Total night charge  Total intl minutes  Total intl calls  \\\n",
       "413            -1.408381            1.058824               4.0   \n",
       "2229            0.645850            0.470588              -1.0   \n",
       "2869           -0.182416            0.000000               1.0   \n",
       "2920           -0.333607           -0.205882               0.0   \n",
       "935            -0.119967           -0.500000               0.5   \n",
       "\n",
       "      Total intl charge  Customer service calls  International plan_No  \\\n",
       "413            1.065934                    -1.0                   -1.0   \n",
       "2229           0.472527                    -0.5                    0.0   \n",
       "2869           0.000000                    -1.0                    0.0   \n",
       "2920          -0.208791                    -1.0                    0.0   \n",
       "935           -0.505495                    -1.0                    0.0   \n",
       "\n",
       "      International plan_Yes  Voice mail plan_No  Voice mail plan_Yes  \n",
       "413                      1.0                -1.0                  1.0  \n",
       "2229                     0.0                -1.0                  1.0  \n",
       "2869                     0.0                 0.0                  0.0  \n",
       "2920                     0.0                -1.0                  1.0  \n",
       "935                      0.0                -1.0                  1.0  "
      ]
     },
     "execution_count": 28,
     "metadata": {},
     "output_type": "execute_result"
    }
   ],
   "source": [
    "# Converting categorical variables to dummy attributes\n",
    "enc_raw_data_test = Test.drop(columns = 'Churn').select_dtypes(include = ['object', 'category'])\n",
    "\n",
    "encoded_data_test = pd.DataFrame(enc.transform(enc_raw_data_test))\n",
    "\n",
    "encoded_data_test.columns = enc.get_feature_names(enc_raw_data_test.columns)\n",
    "encoded_data_test.index = enc_raw_data_test.index\n",
    "\n",
    "Test_Enc = pd.concat([Test.drop(enc_raw_data_test.columns, axis = 1), encoded_data_test], axis = 1)\n",
    "\n",
    "\n",
    "\n",
    "# Removing zero-variance features\n",
    "sel_raw_data_test = Test_Enc.drop(columns = 'Churn')\n",
    "\n",
    "selected_data_test = sel_raw_data_test.iloc[:, selector.get_support(indices = True)]\n",
    "\n",
    "Test_EncSel = pd.concat([Test_Enc.drop(sel_raw_data_train.columns, axis = 1), selected_data_test], axis = 1)\n",
    "\n",
    "\n",
    "\n",
    "# Scaling features\n",
    "sca_raw_data_test = Test_EncSel.drop(columns = 'Churn')\n",
    "\n",
    "scaled_data_test = pd.DataFrame(scaler.transform(sca_raw_data_test))\n",
    "\n",
    "scaled_data_test.columns = sca_raw_data_test.columns\n",
    "scaled_data_test.index = sca_raw_data_test.index\n",
    "\n",
    "Test_EncSelSca = pd.concat([Test_EncSel.drop(sca_raw_data_test.columns, axis = 1), scaled_data_test], axis = 1)\n",
    "\n",
    "# Take a look at our final test set\n",
    "Test_EncSelSca.head()"
   ]
  },
  {
   "cell_type": "markdown",
   "metadata": {},
   "source": [
    "## 4.2. Model training and evaluation"
   ]
  },
  {
   "cell_type": "markdown",
   "metadata": {},
   "source": [
    "Now that we completed data pre-processing steps for both train and test sets. Now let's train several machine learning models and fine-tune them to find the optimal predictive model. We are going to fit the following classifers:\n",
    "\n",
    "1. Logistic Regression\n",
    "2. Support Vector Machine\n",
    "3. Decision Tree\n",
    "4. Random Forest\n",
    "5. AdaBoost\n",
    "6. XGBoost\n",
    "\n",
    "We will leverage grid search approach that involves sequentally evaluating hyperparameter combinations to find the optima in each type of classifier. Specifically, we will be using the `GridSearchCV` function in sklearn package, which uses ***cross-validation*** to exhaustively evaluate different settings from a set of pre-defined options. After testing all of the parameter combinations, it will ultimately find and utilize the setting with the best predictive performance based on a selected evaluation metrics (i.e. AUC is used in this case) to train the classifers on the whole training set."
   ]
  },
  {
   "cell_type": "code",
   "execution_count": 29,
   "metadata": {},
   "outputs": [
    {
     "name": "stdout",
     "output_type": "stream",
     "text": [
      "Now working on model 1 of 6: Logistic Regression\n",
      "Now working on model 2 of 6: Support Vector Machine\n",
      "Now working on model 3 of 6: Decision Tree\n",
      "Now working on model 4 of 6: Random Forest\n",
      "Now working on model 5 of 6: AdaBoost\n",
      "Now working on model 6 of 6: XGBoost\n",
      "Finished!\n"
     ]
    }
   ],
   "source": [
    "# Set up data and labels with respect to both training and test set\n",
    "X_train = TrainDS_EncSelSca.drop(columns = 'Churn')\n",
    "y_train = TrainDS_EncSelSca.Churn\n",
    "\n",
    "X_test = Test_EncSelSca.drop(columns = 'Churn')\n",
    "y_test = Test_EncSelSca.Churn\n",
    "\n",
    "pos_label = 'Yes'\n",
    "\n",
    "# Set up scoring metric\n",
    "scoring_metric = 'roc_auc'\n",
    "\n",
    "# Set up classifiers and tuning parameters\n",
    "names = ['Logistic Regression', 'Support Vector Machine', 'Decision Tree', 'Random Forest', 'AdaBoost', 'XGBoost']\n",
    "classifiers = [LogisticRegression(random_state = 101, solver = 'saga', max_iter = 5000),\n",
    "               SVC(random_state = 101, kernel = 'linear', probability = True),\n",
    "               DecisionTreeClassifier(random_state = 101), \n",
    "               RandomForestClassifier(random_state = 101), \n",
    "               AdaBoostClassifier(random_state = 101),\n",
    "               XGBClassifier(random_state = 101)]\n",
    "param_grids = [{'penalty': ['l1', 'l2', 'elasticnet']},\n",
    "               {'C': [0.01, 0.25, 0.5, 1, 2]},\n",
    "               {'max_depth': [2, 3, 4, 5, 10, 15], 'criterion': ['gini', 'entropy']},\n",
    "               {'max_depth': [3, 4, 5, 10, 15], 'max_features': [None, 'sqrt', 'log2'], 'n_estimators': [50, 100, 200, 500]},\n",
    "               {'n_estimators': [100, 200, 500]},\n",
    "               {'n_estimators': [100, 200, 500]}]\n",
    "\n",
    "# Create empty lists for storing outcomes\n",
    "models = []\n",
    "preds = []\n",
    "probs = []\n",
    "BAs = []\n",
    "AUCs = []\n",
    "FPRs = []\n",
    "TPRs = []\n",
    "timings = []\n",
    "\n",
    "# Train classifiers and generate test predictions/probabilities\n",
    "for i, eachClassifier in enumerate(classifiers):\n",
    "    \n",
    "    print('Now working on model ', i + 1, ' of ', len(classifiers), ': ', names[i], sep = '')\n",
    "    \n",
    "    # Define cross-validation/parameter tuning settings\n",
    "    search = GridSearchCV(eachClassifier, \n",
    "                          param_grids[i], \n",
    "                          cv = 5, \n",
    "                          scoring = scoring_metric,\n",
    "                          n_jobs = -1)\n",
    "    \n",
    "    model = search.fit(X_train, y_train)\n",
    "    pred = search.predict(X_test)\n",
    "    prob = search.predict_proba(X_test)[:, 1]\n",
    "    \n",
    "    # Store outcomes of optimal settings for each classifer\n",
    "    models.append(model)\n",
    "    preds.append(pred)\n",
    "    probs.append(prob)\n",
    "    \n",
    "    BAs.append(balanced_accuracy_score(y_test, pred))\n",
    "    AUCs.append(roc_auc_score(y_test, prob))\n",
    "    \n",
    "    FPR, TPR, _ = roc_curve(y_test, prob, pos_label = pos_label)\n",
    "    \n",
    "    FPRs.append(FPR)\n",
    "    TPRs.append(TPR)\n",
    "    \n",
    "    timings.append(model.refit_time_)\n",
    "    \n",
    "print('Finished!')"
   ]
  },
  {
   "cell_type": "markdown",
   "metadata": {},
   "source": [
    "### Model Comparison"
   ]
  },
  {
   "cell_type": "markdown",
   "metadata": {},
   "source": [
    "That took care of model training and hyperparameter tuning. Let's generate a result table to compare models' generalization performance on the test set."
   ]
  },
  {
   "cell_type": "code",
   "execution_count": 30,
   "metadata": {},
   "outputs": [
    {
     "data": {
      "text/html": [
       "<div>\n",
       "<style scoped>\n",
       "    .dataframe tbody tr th:only-of-type {\n",
       "        vertical-align: middle;\n",
       "    }\n",
       "\n",
       "    .dataframe tbody tr th {\n",
       "        vertical-align: top;\n",
       "    }\n",
       "\n",
       "    .dataframe thead th {\n",
       "        text-align: right;\n",
       "    }\n",
       "</style>\n",
       "<table border=\"1\" class=\"dataframe\">\n",
       "  <thead>\n",
       "    <tr style=\"text-align: right;\">\n",
       "      <th></th>\n",
       "      <th>Classifier</th>\n",
       "      <th>Refit Time</th>\n",
       "      <th>Balanced Accuracy</th>\n",
       "      <th>AUC</th>\n",
       "    </tr>\n",
       "  </thead>\n",
       "  <tbody>\n",
       "    <tr>\n",
       "      <th>5</th>\n",
       "      <td>XGBoost</td>\n",
       "      <td>0.183</td>\n",
       "      <td>0.873</td>\n",
       "      <td>0.923</td>\n",
       "    </tr>\n",
       "    <tr>\n",
       "      <th>3</th>\n",
       "      <td>Random Forest</td>\n",
       "      <td>1.742</td>\n",
       "      <td>0.891</td>\n",
       "      <td>0.918</td>\n",
       "    </tr>\n",
       "    <tr>\n",
       "      <th>2</th>\n",
       "      <td>Decision Tree</td>\n",
       "      <td>0.006</td>\n",
       "      <td>0.854</td>\n",
       "      <td>0.874</td>\n",
       "    </tr>\n",
       "    <tr>\n",
       "      <th>4</th>\n",
       "      <td>AdaBoost</td>\n",
       "      <td>0.194</td>\n",
       "      <td>0.806</td>\n",
       "      <td>0.846</td>\n",
       "    </tr>\n",
       "    <tr>\n",
       "      <th>0</th>\n",
       "      <td>Logistic Regression</td>\n",
       "      <td>0.249</td>\n",
       "      <td>0.768</td>\n",
       "      <td>0.811</td>\n",
       "    </tr>\n",
       "    <tr>\n",
       "      <th>1</th>\n",
       "      <td>Support Vector Machine</td>\n",
       "      <td>0.163</td>\n",
       "      <td>0.758</td>\n",
       "      <td>0.809</td>\n",
       "    </tr>\n",
       "  </tbody>\n",
       "</table>\n",
       "</div>"
      ],
      "text/plain": [
       "               Classifier  Refit Time  Balanced Accuracy    AUC\n",
       "5                 XGBoost       0.183              0.873  0.923\n",
       "3           Random Forest       1.742              0.891  0.918\n",
       "2           Decision Tree       0.006              0.854  0.874\n",
       "4                AdaBoost       0.194              0.806  0.846\n",
       "0     Logistic Regression       0.249              0.768  0.811\n",
       "1  Support Vector Machine       0.163              0.758  0.809"
      ]
     },
     "metadata": {},
     "output_type": "display_data"
    }
   ],
   "source": [
    "results = pd.DataFrame({'Classifier': names, \n",
    "                        'Balanced Accuracy': BAs, \n",
    "                        'AUC': AUCs, \n",
    "                        'TPR': TPRs, \n",
    "                        'FPR': FPRs, \n",
    "                        'Refit Time': timings}).sort_values(['AUC', 'Balanced Accuracy'], ascending = False)\n",
    "\n",
    "display(round(results[['Classifier', 'Refit Time', 'Balanced Accuracy', 'AUC']], 3))"
   ]
  },
  {
   "cell_type": "markdown",
   "metadata": {},
   "source": [
    "It is notable that Random Forest performs best based upon Balanced accuracy but XGBoost performs best with AUC. We can also plot these data to see which model performed best (e.g., based on AUC), colored relative to model refit time (where lower, <font color = 'green'>**greener**</font> times are better):"
   ]
  },
  {
   "cell_type": "code",
   "execution_count": 31,
   "metadata": {},
   "outputs": [
    {
     "data": {
      "image/png": "[encoded data removed]",
      "text/plain": [
       "<Figure size 576x432 with 2 Axes>"
      ]
     },
     "metadata": {},
     "output_type": "display_data"
    }
   ],
   "source": [
    "greenToRed = LinearSegmentedColormap.from_list('', ['green', 'whitesmoke', 'red'])\n",
    "cm.register_cmap('green_to_red', greenToRed)\n",
    "\n",
    "normRTs = plt.Normalize(results['Refit Time'].min(), results['Refit Time'].max())\n",
    "smRTs = plt.cm.ScalarMappable(cmap = 'green_to_red', norm = normRTs)\n",
    "\n",
    "ax = sns.barplot(y = 'Classifier', \n",
    "                 x = 'AUC', \n",
    "                 hue = 'Refit Time', \n",
    "                 dodge = False, \n",
    "                 palette = 'green_to_red', \n",
    "                 edgecolor = '.2', \n",
    "                 data = results)\n",
    "\n",
    "ax.get_legend().remove()\n",
    "ax.figure.colorbar(smRTs)\n",
    "ax.set(title = 'AUC Relative to Refit Time (s)')\n",
    "ax.set(xlim = (math.floor(results.AUC.min() * 10) * 10/100, \n",
    "               results.AUC.max() * 1.01))\n",
    "\n",
    "plt.show()"
   ]
  },
  {
   "cell_type": "markdown",
   "metadata": {},
   "source": [
    "Overall XGBoost and Random Forest all perform pretty similarly and are within rounding error of each other -- any of them would suit us well, but we'll stick with the XGBoost since it has the highest AUC."
   ]
  },
  {
   "cell_type": "markdown",
   "metadata": {},
   "source": [
    "### Classification report"
   ]
  },
  {
   "cell_type": "markdown",
   "metadata": {},
   "source": [
    "Let's now pull out the index of our best model from our results (i.e., the first index from the DataFrame, since it was sorted by descending AUC) and take a closer look at the classification report."
   ]
  },
  {
   "cell_type": "code",
   "execution_count": 32,
   "metadata": {},
   "outputs": [
    {
     "name": "stdout",
     "output_type": "stream",
     "text": [
      "              precision    recall  f1-score   support\n",
      "\n",
      "          No      0.973     0.891     0.930       570\n",
      "         Yes      0.572     0.856     0.686        97\n",
      "\n",
      "    accuracy                          0.886       667\n",
      "   macro avg      0.773     0.873     0.808       667\n",
      "weighted avg      0.915     0.886     0.895       667\n",
      "\n"
     ]
    },
    {
     "data": {
      "image/png": "[encoded data removed]",
      "text/plain": [
       "<Figure size 576x432 with 2 Axes>"
      ]
     },
     "metadata": {},
     "output_type": "display_data"
    }
   ],
   "source": [
    "best_index = results.index[0]\n",
    "\n",
    "plot_confusion_matrix(models[best_index], \n",
    "                      X_test, \n",
    "                      y_test,\n",
    "                      cmap = plt.cm.Blues,\n",
    "                      values_format = 'd')\n",
    "\n",
    "print(classification_report(y_test, preds[best_index], digits = 3))"
   ]
  },
  {
   "cell_type": "markdown",
   "metadata": {},
   "source": [
    "Our best model (i.e. XGBoost) has a pretty impressive generalization performance on the test set with an accuracy of up to 89% so we can be quite confident to taking advantage of this model to predict future unseen data."
   ]
  },
  {
   "cell_type": "markdown",
   "metadata": {},
   "source": [
    "### Important features"
   ]
  },
  {
   "cell_type": "code",
   "execution_count": 33,
   "metadata": {},
   "outputs": [
    {
     "data": {
      "text/plain": [
       "<AxesSubplot:xlabel='importance', ylabel='feature'>"
      ]
     },
     "execution_count": 33,
     "metadata": {},
     "output_type": "execute_result"
    },
    {
     "data": {
      "image/png": "[encoded data removed]",
      "text/plain": [
       "<Figure size 576x432 with 1 Axes>"
      ]
     },
     "metadata": {},
     "output_type": "display_data"
    }
   ],
   "source": [
    "var_imp = pd.DataFrame({'feature': X_test.columns, \n",
    "                        'importance': models[best_index].best_estimator_.feature_importances_}).sort_values('importance', ascending = False)\n",
    "\n",
    "sns.barplot(y = 'feature', \n",
    "            x = 'importance', \n",
    "            data = var_imp.head(10))"
   ]
  },
  {
   "cell_type": "markdown",
   "metadata": {},
   "source": [
    "Out of ten features, the three most important ones are `International plan_no`, `Customer service calls`, and `Total day minutes`. This means that international plan subscription, number of customer service calls and total minutes of day call have a great impact on the probability of customer churn."
   ]
  },
  {
   "cell_type": "markdown",
   "metadata": {},
   "source": [
    "## 5. Conclusion"
   ]
  },
  {
   "cell_type": "markdown",
   "metadata": {},
   "source": [
    "- This project aims to develop a predictive model that predicts if a customer will cancel subscription and leave the company. The data set for model training and evaluation consists of 20 variables and 3,333 samples. Each sample represents a customer and each variable represents a feature about customer. The target variable is the binary variable `Churn` with two values: Yes indicates that the customer cancelled subscription and No indicates that the customer did not. The other 19 variables are all predictors, including customers’ demographic and usage data.\n",
    "\n",
    "- This is a classification problem. We first conduct descriptive analysis to get a sense of relationships between target variable and predictors. However, in order to take into account interaction of predictors, we need to build machine learning models. Prior to developing a model, we need to conduct data preprocessing, including splitting the data set into train/test set, downsizing the train set to make class balance, imputing missing data, converting categorical variables into dummy variables, removing features with zero variance, and scaling the data.\n",
    "\n",
    "- 6 different machine learning models were built for this analysis: Logistic Regression, Support Vector Machine, Decision Tree, Random Forest, AdaBoost, and XGBoost. XGBoost outperforms other models based on AUC and the classification report shows that this XGBoost model can correctly predict 89% of samples in the test set.\n",
    "\n",
    "- Three most important features in predicting target variable are international plan subscription, number of customer service calls and total minutes of day call. From a business standpoint, these findings can be explained as follows: customer without international plan subscription are more likely to churn; customers that make multiple calls to customer services are experiencing usage difficulties so they are more likely to churn; the more minutes customer call in the day, the more charges they incur and the more likely they will churn.  \n",
    "\n",
    "- Based on those insights, the firm can take appropriate actions to retain customers that are likely to leave. With respect to international plan subscription, the telecom firm can discount the fee for the plan or offer gifts for customers that subscribe to international plans. Also, the firm needs to closely monitor problems that customers raise when they contact customer service center, making sure their problems are solved and never happen again. \n",
    "\n",
    "- This analysis provides a model that can be leveraged to predict if a particular client will churn based on her/his features. With that prediction, the telecommunication company can detect customers that are going to churn in order to figure out ways to retain them. This expect to improve the customer retention rate and boost the bottom line for the firm."
   ]
  },
  {
   "cell_type": "markdown",
   "metadata": {},
   "source": [
    "---"
   ]
  }
 ],
 "metadata": {
  "kernelspec": {
   "display_name": "Python 3",
   "language": "python",
   "name": "python3"
  },
  "language_info": {
   "codemirror_mode": {
    "name": "ipython",
    "version": 3
   },
   "file_extension": ".py",
   "mimetype": "text/x-python",
   "name": "python",
   "nbconvert_exporter": "python",
   "pygments_lexer": "ipython3",
   "version": "3.8.3"
  }
 },
 "nbformat": 4,
 "nbformat_minor": 4
}
